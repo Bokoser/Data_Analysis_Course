{
 "cells": [
  {
   "cell_type": "markdown",
   "id": "rising-acquisition",
   "metadata": {},
   "source": [
    "# Лекция №12. Boosting. Gradient Boosting Machine. Ключевые параметры модели."
   ]
  },
  {
   "cell_type": "markdown",
   "id": "pursuant-advertising",
   "metadata": {},
   "source": [
    "**Boosting** представляет из себя набор методов, где каждый новый добавленный слабый классификатор учится на ошибках предыдущего классификатора. Таким образом, с добавлением каждого нового классификатора модель совершенствуется. Добавление классификаторов прекращается тогда, когда не имеем значительного (по нашей оценке) прироста в точности модели."
   ]
  },
  {
   "cell_type": "markdown",
   "id": "civil-intervention",
   "metadata": {},
   "source": [
    "В качестве слабых классификаторов применяются деревья решений. Достоинствами такого выбора являются:  \n",
    "1) Высокая скорость обучения каждого конкретного дерева;  \n",
    "2) Отсутсвует необходимость оптимизировать алгоритм, т.к. решение можно выписать в явном виде."
   ]
  },
  {
   "cell_type": "markdown",
   "id": "imperial-mother",
   "metadata": {},
   "source": [
    "### Алгоритм:"
   ]
  },
  {
   "attachments": {
    "20.gif": {
     "image/gif": "[encoded data removed]"
    }
   },
   "cell_type": "markdown",
   "id": "million-calvin",
   "metadata": {},
   "source": [
    "Хотим найти такую функцию f^(x), чтобы минимизировать функцию ошибки:\n",
    "![20.gif](attachment:20.gif)"
   ]
  },
  {
   "attachments": {
    "60.gif": {
     "image/gif": "[encoded data removed]"
    }
   },
   "cell_type": "markdown",
   "id": "reasonable-segment",
   "metadata": {},
   "source": [
    "Сначала необходимо проинициализировать первичное предсказание:\n",
    "![60.gif](attachment:60.gif)"
   ]
  },
  {
   "cell_type": "markdown",
   "id": "fluid-lexington",
   "metadata": {},
   "source": [
    "Т.е. найти такое значение этого предсказания, которое минимизирует функцию ошибки на первом шаге.  \n",
    "Для задачи регрессии это **среднее арифметическое** от всех выходных известных значений обучающей выборки.  \n",
    "Для задачи классификации (для упрощения для 2-х классов) это логарифм шанса на успех: ```log(m/n) = log(odds)```, где m - число успехов, n - число неудач (другой вариант ```log(p/(1-p))```, где ```p = m/ (m+n)```."
   ]
  },
  {
   "cell_type": "markdown",
   "id": "chinese-nation",
   "metadata": {},
   "source": [
    "Далее для **каждого дерева** m = 1:M:"
   ]
  },
  {
   "attachments": {
    "21.gif": {
     "image/gif": "[encoded data removed]"
    }
   },
   "cell_type": "markdown",
   "id": "medical-strand",
   "metadata": {},
   "source": [
    "1) Посчитать частные производные от функции ошибки (они же остатки, pseudo residuals):\n",
    "![21.gif](attachment:21.gif)"
   ]
  },
  {
   "attachments": {
    "61-2.gif": {
     "image/gif": "[encoded data removed]"
    }
   },
   "cell_type": "markdown",
   "id": "mature-kansas",
   "metadata": {},
   "source": [
    "Для задачи регрессии остатки будут равны разности правильного ответа и предсказанного на предыдущем шаге:\n",
    "![61-2.gif](attachment:61-2.gif)"
   ]
  },
  {
   "attachments": {
    "62.gif": {
     "image/gif": "[encoded data removed]"
    }
   },
   "cell_type": "markdown",
   "id": "senior-button",
   "metadata": {},
   "source": [
    "Для задачи классификации остатки будут равны разности предсказанной на предыдущем шаге и истинной вероятностей принадлежать классу:\n",
    "![62.gif](attachment:62.gif)"
   ]
  },
  {
   "cell_type": "markdown",
   "id": "frequent-typing",
   "metadata": {},
   "source": [
    "2) Обучить регрессионную модель g(x), которая будет предсказывать $z_i$ по $x_i$, т.е. обучить дерево на полученных остатках"
   ]
  },
  {
   "attachments": {
    "64.gif": {
     "image/gif": "[encoded data removed]"
    }
   },
   "cell_type": "markdown",
   "id": "purple-synthetic",
   "metadata": {},
   "source": [
    "3) Выбрать шаг регрессии модели, исходя из минимизации функции ошибки, поправленной на градиент:\n",
    "![64.gif](attachment:64.gif)"
   ]
  },
  {
   "cell_type": "markdown",
   "id": "moved-employment",
   "metadata": {},
   "source": [
    "Т.е. посчитать значения в листах получившегося дерева."
   ]
  },
  {
   "cell_type": "markdown",
   "id": "naughty-shoulder",
   "metadata": {},
   "source": [
    "Для задачи регрессии это будет **среднее арифметическое** попавший в данных лист значений."
   ]
  },
  {
   "attachments": {
    "63-2.gif": {
     "image/gif": "[encoded data removed]"
    }
   },
   "cell_type": "markdown",
   "id": "american-swaziland",
   "metadata": {},
   "source": [
    "Для задачи классификации значение листа вычисляется по следующей формуле:\n",
    "![63-2.gif](attachment:63-2.gif)"
   ]
  },
  {
   "attachments": {
    "65.gif": {
     "image/gif": "[encoded data removed]"
    }
   },
   "cell_type": "markdown",
   "id": "contemporary-medication",
   "metadata": {},
   "source": [
    "4) Обновить регрессионную модель:\n",
    "![65.gif](attachment:65.gif)"
   ]
  },
  {
   "cell_type": "markdown",
   "id": "elder-shoot",
   "metadata": {},
   "source": [
    "Т.е. пересчитать новые предсказания с учетом нового построенного дерева с поправкой на скорость обучения ```nu```."
   ]
  },
  {
   "cell_type": "markdown",
   "id": "annoying-violin",
   "metadata": {},
   "source": [
    "Для задачи регрессии необходимо просто сложить по формуле значения предыдущих шагов с полученным на этом шаге (умноженном на скорость обучения), для задач классификации необходимо предварительно перевести значение листьев в вероятности."
   ]
  },
  {
   "cell_type": "markdown",
   "id": "phantom-commons",
   "metadata": {},
   "source": [
    "Критерий качества (минимизация функции ошибки) рассматривается, исходя из идеи максимизации функции правдоподобия (функция распределения вероятности или плотности вероятности, которая наиболее хорошо описывает наши текущие практические данные).  \n",
    "Чаще всего это сумма квадратов ошибок (для функции правдоподобия - функции нормального распределения) или сумма модулей ошибок (для функции правдоподобия - функции Лапласа). Однако из других функций правдоподобия можно получить и другие критерии качества."
   ]
  },
  {
   "attachments": {
    "66.gif": {
     "image/gif": "[encoded data removed]"
    }
   },
   "cell_type": "markdown",
   "id": "suburban-dealing",
   "metadata": {},
   "source": [
    "Результатом Gradient Boosting Machine будет обученная модель, представляющая из себя некоторую линейную комбинацию моделей каждого классификатора:\n",
    "![66.gif](attachment:66.gif)\n",
    "где ```nu``` - это по сути learning rate. Выбор его значения в изначальной статье про GBM основывается только на опытных экспериментах, что стало слабым местом этой модели."
   ]
  },
  {
   "cell_type": "markdown",
   "id": "referenced-vector",
   "metadata": {},
   "source": [
    "Т.к. модель по сути организует подсчет регрессии, то, если мы решаем задачу классификации, и нам на выходе нужно получить класс, необходимо ввести дополнительные гиперпараметры, которые будут разграничивать выходные непрерывные данные на дискретные классы."
   ]
  },
  {
   "cell_type": "markdown",
   "id": "following-surrey",
   "metadata": {},
   "source": [
    "### Gradient Boosting Machine"
   ]
  },
  {
   "cell_type": "code",
   "execution_count": 1,
   "id": "helpful-combat",
   "metadata": {},
   "outputs": [],
   "source": [
    "import numpy as np\n",
    "import pandas as pd\n",
    "import matplotlib\n",
    "import matplotlib.pyplot as plt\n",
    "matplotlib.style.use('ggplot')\n",
    "%matplotlib inline"
   ]
  },
  {
   "cell_type": "markdown",
   "id": "possible-advocacy",
   "metadata": {},
   "source": [
    "Задача: предсказать годовой доход человека (больше или меньше $50000) по информации из переписи населения.  \n",
    "https://archive.ics.uci.edu/ml/machine-learning-databases/adult/"
   ]
  },
  {
   "cell_type": "code",
   "execution_count": 2,
   "id": "through-butler",
   "metadata": {},
   "outputs": [
    {
     "data": {
      "text/html": [
       "<div>\n",
       "<style scoped>\n",
       "    .dataframe tbody tr th:only-of-type {\n",
       "        vertical-align: middle;\n",
       "    }\n",
       "\n",
       "    .dataframe tbody tr th {\n",
       "        vertical-align: top;\n",
       "    }\n",
       "\n",
       "    .dataframe thead th {\n",
       "        text-align: right;\n",
       "    }\n",
       "</style>\n",
       "<table border=\"1\" class=\"dataframe\">\n",
       "  <thead>\n",
       "    <tr style=\"text-align: right;\">\n",
       "      <th></th>\n",
       "      <th>age</th>\n",
       "      <th>workclass</th>\n",
       "      <th>fnlwgt</th>\n",
       "      <th>education</th>\n",
       "      <th>education-num</th>\n",
       "      <th>marital-status</th>\n",
       "      <th>occupation</th>\n",
       "      <th>relationship</th>\n",
       "      <th>race</th>\n",
       "      <th>sex</th>\n",
       "      <th>capital-gain</th>\n",
       "      <th>capital-loss</th>\n",
       "      <th>hours-per-week</th>\n",
       "      <th>native-country</th>\n",
       "      <th>income</th>\n",
       "    </tr>\n",
       "  </thead>\n",
       "  <tbody>\n",
       "    <tr>\n",
       "      <th>0</th>\n",
       "      <td>39</td>\n",
       "      <td>State-gov</td>\n",
       "      <td>77516</td>\n",
       "      <td>Bachelors</td>\n",
       "      <td>13</td>\n",
       "      <td>Never-married</td>\n",
       "      <td>Adm-clerical</td>\n",
       "      <td>Not-in-family</td>\n",
       "      <td>White</td>\n",
       "      <td>Male</td>\n",
       "      <td>2174</td>\n",
       "      <td>0</td>\n",
       "      <td>40</td>\n",
       "      <td>United-States</td>\n",
       "      <td>&lt;=50K</td>\n",
       "    </tr>\n",
       "    <tr>\n",
       "      <th>1</th>\n",
       "      <td>50</td>\n",
       "      <td>Self-emp-not-inc</td>\n",
       "      <td>83311</td>\n",
       "      <td>Bachelors</td>\n",
       "      <td>13</td>\n",
       "      <td>Married-civ-spouse</td>\n",
       "      <td>Exec-managerial</td>\n",
       "      <td>Husband</td>\n",
       "      <td>White</td>\n",
       "      <td>Male</td>\n",
       "      <td>0</td>\n",
       "      <td>0</td>\n",
       "      <td>13</td>\n",
       "      <td>United-States</td>\n",
       "      <td>&lt;=50K</td>\n",
       "    </tr>\n",
       "    <tr>\n",
       "      <th>2</th>\n",
       "      <td>38</td>\n",
       "      <td>Private</td>\n",
       "      <td>215646</td>\n",
       "      <td>HS-grad</td>\n",
       "      <td>9</td>\n",
       "      <td>Divorced</td>\n",
       "      <td>Handlers-cleaners</td>\n",
       "      <td>Not-in-family</td>\n",
       "      <td>White</td>\n",
       "      <td>Male</td>\n",
       "      <td>0</td>\n",
       "      <td>0</td>\n",
       "      <td>40</td>\n",
       "      <td>United-States</td>\n",
       "      <td>&lt;=50K</td>\n",
       "    </tr>\n",
       "    <tr>\n",
       "      <th>3</th>\n",
       "      <td>53</td>\n",
       "      <td>Private</td>\n",
       "      <td>234721</td>\n",
       "      <td>11th</td>\n",
       "      <td>7</td>\n",
       "      <td>Married-civ-spouse</td>\n",
       "      <td>Handlers-cleaners</td>\n",
       "      <td>Husband</td>\n",
       "      <td>Black</td>\n",
       "      <td>Male</td>\n",
       "      <td>0</td>\n",
       "      <td>0</td>\n",
       "      <td>40</td>\n",
       "      <td>United-States</td>\n",
       "      <td>&lt;=50K</td>\n",
       "    </tr>\n",
       "    <tr>\n",
       "      <th>4</th>\n",
       "      <td>28</td>\n",
       "      <td>Private</td>\n",
       "      <td>338409</td>\n",
       "      <td>Bachelors</td>\n",
       "      <td>13</td>\n",
       "      <td>Married-civ-spouse</td>\n",
       "      <td>Prof-specialty</td>\n",
       "      <td>Wife</td>\n",
       "      <td>Black</td>\n",
       "      <td>Female</td>\n",
       "      <td>0</td>\n",
       "      <td>0</td>\n",
       "      <td>40</td>\n",
       "      <td>Cuba</td>\n",
       "      <td>&lt;=50K</td>\n",
       "    </tr>\n",
       "  </tbody>\n",
       "</table>\n",
       "</div>"
      ],
      "text/plain": [
       "   age          workclass  fnlwgt   education  education-num  \\\n",
       "0   39          State-gov   77516   Bachelors             13   \n",
       "1   50   Self-emp-not-inc   83311   Bachelors             13   \n",
       "2   38            Private  215646     HS-grad              9   \n",
       "3   53            Private  234721        11th              7   \n",
       "4   28            Private  338409   Bachelors             13   \n",
       "\n",
       "        marital-status          occupation    relationship    race      sex  \\\n",
       "0        Never-married        Adm-clerical   Not-in-family   White     Male   \n",
       "1   Married-civ-spouse     Exec-managerial         Husband   White     Male   \n",
       "2             Divorced   Handlers-cleaners   Not-in-family   White     Male   \n",
       "3   Married-civ-spouse   Handlers-cleaners         Husband   Black     Male   \n",
       "4   Married-civ-spouse      Prof-specialty            Wife   Black   Female   \n",
       "\n",
       "   capital-gain  capital-loss  hours-per-week  native-country  income  \n",
       "0          2174             0              40   United-States   <=50K  \n",
       "1             0             0              13   United-States   <=50K  \n",
       "2             0             0              40   United-States   <=50K  \n",
       "3             0             0              40   United-States   <=50K  \n",
       "4             0             0              40            Cuba   <=50K  "
      ]
     },
     "execution_count": 2,
     "metadata": {},
     "output_type": "execute_result"
    }
   ],
   "source": [
    "columns = ['age', 'workclass', 'fnlwgt', 'education', 'education-num', 'marital-status', 'occupation', 'relationship', \n",
    "           'race', 'sex', 'capital-gain', 'capital-loss', 'hours-per-week', 'native-country', 'income']\n",
    "df = pd.read_csv('adult.data', header=None, names=columns, na_values=' ?')\n",
    "df.head()"
   ]
  },
  {
   "cell_type": "code",
   "execution_count": 3,
   "id": "floppy-cleaners",
   "metadata": {},
   "outputs": [
    {
     "data": {
      "text/html": [
       "<div>\n",
       "<style scoped>\n",
       "    .dataframe tbody tr th:only-of-type {\n",
       "        vertical-align: middle;\n",
       "    }\n",
       "\n",
       "    .dataframe tbody tr th {\n",
       "        vertical-align: top;\n",
       "    }\n",
       "\n",
       "    .dataframe thead th {\n",
       "        text-align: right;\n",
       "    }\n",
       "</style>\n",
       "<table border=\"1\" class=\"dataframe\">\n",
       "  <thead>\n",
       "    <tr style=\"text-align: right;\">\n",
       "      <th></th>\n",
       "      <th>age</th>\n",
       "      <th>workclass</th>\n",
       "      <th>fnlwgt</th>\n",
       "      <th>education-num</th>\n",
       "      <th>marital-status</th>\n",
       "      <th>occupation</th>\n",
       "      <th>relationship</th>\n",
       "      <th>race</th>\n",
       "      <th>sex</th>\n",
       "      <th>capital-gain</th>\n",
       "      <th>capital-loss</th>\n",
       "      <th>hours-per-week</th>\n",
       "      <th>native-country</th>\n",
       "      <th>income</th>\n",
       "    </tr>\n",
       "  </thead>\n",
       "  <tbody>\n",
       "    <tr>\n",
       "      <th>0</th>\n",
       "      <td>39</td>\n",
       "      <td>State-gov</td>\n",
       "      <td>77516</td>\n",
       "      <td>13</td>\n",
       "      <td>Never-married</td>\n",
       "      <td>Adm-clerical</td>\n",
       "      <td>Not-in-family</td>\n",
       "      <td>White</td>\n",
       "      <td>Male</td>\n",
       "      <td>2174</td>\n",
       "      <td>0</td>\n",
       "      <td>40</td>\n",
       "      <td>United-States</td>\n",
       "      <td>0</td>\n",
       "    </tr>\n",
       "    <tr>\n",
       "      <th>1</th>\n",
       "      <td>50</td>\n",
       "      <td>Self-emp-not-inc</td>\n",
       "      <td>83311</td>\n",
       "      <td>13</td>\n",
       "      <td>Married-civ-spouse</td>\n",
       "      <td>Exec-managerial</td>\n",
       "      <td>Husband</td>\n",
       "      <td>White</td>\n",
       "      <td>Male</td>\n",
       "      <td>0</td>\n",
       "      <td>0</td>\n",
       "      <td>13</td>\n",
       "      <td>United-States</td>\n",
       "      <td>0</td>\n",
       "    </tr>\n",
       "    <tr>\n",
       "      <th>2</th>\n",
       "      <td>38</td>\n",
       "      <td>Private</td>\n",
       "      <td>215646</td>\n",
       "      <td>9</td>\n",
       "      <td>Divorced</td>\n",
       "      <td>Handlers-cleaners</td>\n",
       "      <td>Not-in-family</td>\n",
       "      <td>White</td>\n",
       "      <td>Male</td>\n",
       "      <td>0</td>\n",
       "      <td>0</td>\n",
       "      <td>40</td>\n",
       "      <td>United-States</td>\n",
       "      <td>0</td>\n",
       "    </tr>\n",
       "    <tr>\n",
       "      <th>3</th>\n",
       "      <td>53</td>\n",
       "      <td>Private</td>\n",
       "      <td>234721</td>\n",
       "      <td>7</td>\n",
       "      <td>Married-civ-spouse</td>\n",
       "      <td>Handlers-cleaners</td>\n",
       "      <td>Husband</td>\n",
       "      <td>Black</td>\n",
       "      <td>Male</td>\n",
       "      <td>0</td>\n",
       "      <td>0</td>\n",
       "      <td>40</td>\n",
       "      <td>United-States</td>\n",
       "      <td>0</td>\n",
       "    </tr>\n",
       "    <tr>\n",
       "      <th>4</th>\n",
       "      <td>28</td>\n",
       "      <td>Private</td>\n",
       "      <td>338409</td>\n",
       "      <td>13</td>\n",
       "      <td>Married-civ-spouse</td>\n",
       "      <td>Prof-specialty</td>\n",
       "      <td>Wife</td>\n",
       "      <td>Black</td>\n",
       "      <td>Female</td>\n",
       "      <td>0</td>\n",
       "      <td>0</td>\n",
       "      <td>40</td>\n",
       "      <td>Cuba</td>\n",
       "      <td>0</td>\n",
       "    </tr>\n",
       "  </tbody>\n",
       "</table>\n",
       "</div>"
      ],
      "text/plain": [
       "   age          workclass  fnlwgt  education-num       marital-status  \\\n",
       "0   39          State-gov   77516             13        Never-married   \n",
       "1   50   Self-emp-not-inc   83311             13   Married-civ-spouse   \n",
       "2   38            Private  215646              9             Divorced   \n",
       "3   53            Private  234721              7   Married-civ-spouse   \n",
       "4   28            Private  338409             13   Married-civ-spouse   \n",
       "\n",
       "           occupation    relationship    race      sex  capital-gain  \\\n",
       "0        Adm-clerical   Not-in-family   White     Male          2174   \n",
       "1     Exec-managerial         Husband   White     Male             0   \n",
       "2   Handlers-cleaners   Not-in-family   White     Male             0   \n",
       "3   Handlers-cleaners         Husband   Black     Male             0   \n",
       "4      Prof-specialty            Wife   Black   Female             0   \n",
       "\n",
       "   capital-loss  hours-per-week  native-country  income  \n",
       "0             0              40   United-States       0  \n",
       "1             0              13   United-States       0  \n",
       "2             0              40   United-States       0  \n",
       "3             0              40   United-States       0  \n",
       "4             0              40            Cuba       0  "
      ]
     },
     "execution_count": 3,
     "metadata": {},
     "output_type": "execute_result"
    }
   ],
   "source": [
    "# Удаляем столбец Education, т.к. есть дублирующий его закодированный столбец education_num\n",
    "df = df.drop('education', axis=1)\n",
    "# Перекодируем отклик (годовой доход) в бинарные значения\n",
    "df['income'] = df['income'].map({' <=50K':0, ' >50K':1})\n",
    "# Удаляем строки с пропущенными значениями\n",
    "df = df.dropna()\n",
    "df.head()"
   ]
  },
  {
   "cell_type": "code",
   "execution_count": 4,
   "id": "authorized-shelf",
   "metadata": {},
   "outputs": [
    {
     "data": {
      "text/html": [
       "<div>\n",
       "<style scoped>\n",
       "    .dataframe tbody tr th:only-of-type {\n",
       "        vertical-align: middle;\n",
       "    }\n",
       "\n",
       "    .dataframe tbody tr th {\n",
       "        vertical-align: top;\n",
       "    }\n",
       "\n",
       "    .dataframe thead th {\n",
       "        text-align: right;\n",
       "    }\n",
       "</style>\n",
       "<table border=\"1\" class=\"dataframe\">\n",
       "  <thead>\n",
       "    <tr style=\"text-align: right;\">\n",
       "      <th></th>\n",
       "      <th>age</th>\n",
       "      <th>workclass</th>\n",
       "      <th>fnlwgt</th>\n",
       "      <th>education-num</th>\n",
       "      <th>marital-status</th>\n",
       "      <th>occupation</th>\n",
       "      <th>relationship</th>\n",
       "      <th>race</th>\n",
       "      <th>sex</th>\n",
       "      <th>capital-gain</th>\n",
       "      <th>capital-loss</th>\n",
       "      <th>hours-per-week</th>\n",
       "      <th>native-country</th>\n",
       "      <th>income</th>\n",
       "    </tr>\n",
       "  </thead>\n",
       "  <tbody>\n",
       "    <tr>\n",
       "      <th>0</th>\n",
       "      <td>25</td>\n",
       "      <td>Private</td>\n",
       "      <td>226802</td>\n",
       "      <td>7</td>\n",
       "      <td>Never-married</td>\n",
       "      <td>Machine-op-inspct</td>\n",
       "      <td>Own-child</td>\n",
       "      <td>Black</td>\n",
       "      <td>Male</td>\n",
       "      <td>0</td>\n",
       "      <td>0</td>\n",
       "      <td>40</td>\n",
       "      <td>United-States</td>\n",
       "      <td>0</td>\n",
       "    </tr>\n",
       "    <tr>\n",
       "      <th>1</th>\n",
       "      <td>38</td>\n",
       "      <td>Private</td>\n",
       "      <td>89814</td>\n",
       "      <td>9</td>\n",
       "      <td>Married-civ-spouse</td>\n",
       "      <td>Farming-fishing</td>\n",
       "      <td>Husband</td>\n",
       "      <td>White</td>\n",
       "      <td>Male</td>\n",
       "      <td>0</td>\n",
       "      <td>0</td>\n",
       "      <td>50</td>\n",
       "      <td>United-States</td>\n",
       "      <td>0</td>\n",
       "    </tr>\n",
       "    <tr>\n",
       "      <th>2</th>\n",
       "      <td>28</td>\n",
       "      <td>Local-gov</td>\n",
       "      <td>336951</td>\n",
       "      <td>12</td>\n",
       "      <td>Married-civ-spouse</td>\n",
       "      <td>Protective-serv</td>\n",
       "      <td>Husband</td>\n",
       "      <td>White</td>\n",
       "      <td>Male</td>\n",
       "      <td>0</td>\n",
       "      <td>0</td>\n",
       "      <td>40</td>\n",
       "      <td>United-States</td>\n",
       "      <td>1</td>\n",
       "    </tr>\n",
       "    <tr>\n",
       "      <th>3</th>\n",
       "      <td>44</td>\n",
       "      <td>Private</td>\n",
       "      <td>160323</td>\n",
       "      <td>10</td>\n",
       "      <td>Married-civ-spouse</td>\n",
       "      <td>Machine-op-inspct</td>\n",
       "      <td>Husband</td>\n",
       "      <td>Black</td>\n",
       "      <td>Male</td>\n",
       "      <td>7688</td>\n",
       "      <td>0</td>\n",
       "      <td>40</td>\n",
       "      <td>United-States</td>\n",
       "      <td>1</td>\n",
       "    </tr>\n",
       "    <tr>\n",
       "      <th>5</th>\n",
       "      <td>34</td>\n",
       "      <td>Private</td>\n",
       "      <td>198693</td>\n",
       "      <td>6</td>\n",
       "      <td>Never-married</td>\n",
       "      <td>Other-service</td>\n",
       "      <td>Not-in-family</td>\n",
       "      <td>White</td>\n",
       "      <td>Male</td>\n",
       "      <td>0</td>\n",
       "      <td>0</td>\n",
       "      <td>30</td>\n",
       "      <td>United-States</td>\n",
       "      <td>0</td>\n",
       "    </tr>\n",
       "  </tbody>\n",
       "</table>\n",
       "</div>"
      ],
      "text/plain": [
       "   age   workclass  fnlwgt  education-num       marital-status  \\\n",
       "0   25     Private  226802              7        Never-married   \n",
       "1   38     Private   89814              9   Married-civ-spouse   \n",
       "2   28   Local-gov  336951             12   Married-civ-spouse   \n",
       "3   44     Private  160323             10   Married-civ-spouse   \n",
       "5   34     Private  198693              6        Never-married   \n",
       "\n",
       "           occupation    relationship    race    sex  capital-gain  \\\n",
       "0   Machine-op-inspct       Own-child   Black   Male             0   \n",
       "1     Farming-fishing         Husband   White   Male             0   \n",
       "2     Protective-serv         Husband   White   Male             0   \n",
       "3   Machine-op-inspct         Husband   Black   Male          7688   \n",
       "5       Other-service   Not-in-family   White   Male             0   \n",
       "\n",
       "   capital-loss  hours-per-week  native-country  income  \n",
       "0             0              40   United-States       0  \n",
       "1             0              50   United-States       0  \n",
       "2             0              40   United-States       1  \n",
       "3             0              40   United-States       1  \n",
       "5             0              30   United-States       0  "
      ]
     },
     "execution_count": 4,
     "metadata": {},
     "output_type": "execute_result"
    }
   ],
   "source": [
    "test = pd.read_csv('adult.test', header=None, names=columns, skiprows=[0], na_values=' ?')\n",
    "test = test.drop('education', axis=1)\n",
    "test['income'] = test['income'].map({' <=50K.':0, ' >50K.':1})\n",
    "test = test.dropna()\n",
    "test.head()"
   ]
  },
  {
   "cell_type": "markdown",
   "id": "developed-sphere",
   "metadata": {},
   "source": [
    "Посчитаем распределение классов в отклике:"
   ]
  },
  {
   "cell_type": "code",
   "execution_count": 5,
   "id": "terminal-layout",
   "metadata": {},
   "outputs": [
    {
     "data": {
      "text/plain": [
       "0    0.751078\n",
       "1    0.248922\n",
       "Name: income, dtype: float64"
      ]
     },
     "execution_count": 5,
     "metadata": {},
     "output_type": "execute_result"
    }
   ],
   "source": [
    "df['income'].value_counts(normalize=True)"
   ]
  },
  {
   "cell_type": "markdown",
   "id": "medium-engine",
   "metadata": {},
   "source": [
    "Считаем, что выборка достаточно сбалансированная."
   ]
  },
  {
   "cell_type": "markdown",
   "id": "checked-element",
   "metadata": {},
   "source": [
    "Разбиваем датасет на обучающую и тестовую выборки. Бинаризуем категориальные признаки:  \n",
    "Если некоторый признак закодирован категориями, то при другом соответствии чисел категориям модель уже работать не будет. Предлагается перекодировать каждый признак в набор признаков, каждый из которых бинарный и отвечает на вопрос, принадлежит ли признак одному конктерному своему значению или нет.  \n",
    "Например, в столбце с родной страной у нас закодировано 20 стран. Тогда вместо этого признака создадим 20 признаков, каждый из которых будет обозначать, является ли у опрошенного человека родной страной данная. Таким образом, в 19 столбцах значением будет 0 и только в одном - 1."
   ]
  },
  {
   "cell_type": "code",
   "execution_count": 6,
   "id": "funded-egyptian",
   "metadata": {},
   "outputs": [],
   "source": [
    "x_train = pd.get_dummies(df).drop('income', axis=1)\n",
    "y_train = df['income']\n",
    "\n",
    "x_test = pd.get_dummies(test).drop('income', axis=1)\n",
    "y_test = test['income']"
   ]
  },
  {
   "cell_type": "markdown",
   "id": "scientific-concrete",
   "metadata": {},
   "source": [
    "После бинаризации категориальных признаков окажется, что в обучающем множестве на один столбец больше, чем будет использоваться для обучения, т.к. в ней не оказалось ни одного человека из Голландии."
   ]
  },
  {
   "cell_type": "code",
   "execution_count": 7,
   "id": "connected-corps",
   "metadata": {},
   "outputs": [
    {
     "name": "stdout",
     "output_type": "stream",
     "text": [
      "88\n",
      "87\n",
      "{'native-country_ Holand-Netherlands'}\n",
      "set()\n"
     ]
    }
   ],
   "source": [
    "print(len(x_train.columns))\n",
    "print(len(x_test.columns))\n",
    "# Приводим множества названий колонок к типу set и находим разность двух множеств.\n",
    "print(set(x_train.columns) - set(x_test.columns))\n",
    "print(set(x_test.columns) - set(x_train.columns))"
   ]
  },
  {
   "cell_type": "markdown",
   "id": "buried-device",
   "metadata": {},
   "source": [
    "Чтобы исправить расхождение, создадим полный список всех колонок (из обучающей и из тестовой выборок) и переиндексируем колонки в соответствии с этим списком. В результате в тестовой выборке на месте native-country=Holand-Netherlands появятся NaN, которые мы заменим на нули."
   ]
  },
  {
   "cell_type": "code",
   "execution_count": 8,
   "id": "handmade-monitoring",
   "metadata": {},
   "outputs": [
    {
     "name": "stderr",
     "output_type": "stream",
     "text": [
      "<ipython-input-8-f61e0109e3fb>:1: FutureWarning: Index.__or__ operating as a set operation is deprecated, in the future this will be a logical operation matching Series.__or__.  Use index.union(other) instead\n",
      "  columns = set(x_train.columns|x_test.columns)\n"
     ]
    }
   ],
   "source": [
    "columns = set(x_train.columns|x_test.columns)\n",
    "x_train = x_train.reindex(columns=columns).fillna(0)\n",
    "x_test = x_test.reindex(columns=columns).fillna(0)"
   ]
  },
  {
   "cell_type": "markdown",
   "id": "anonymous-newton",
   "metadata": {},
   "source": [
    "Убедимся в том, что колонки идентичны:"
   ]
  },
  {
   "cell_type": "code",
   "execution_count": 9,
   "id": "metric-debate",
   "metadata": {},
   "outputs": [
    {
     "data": {
      "text/plain": [
       "True"
      ]
     },
     "execution_count": 9,
     "metadata": {},
     "output_type": "execute_result"
    }
   ],
   "source": [
    "all(x_train.columns == x_test.columns)"
   ]
  },
  {
   "cell_type": "markdown",
   "id": "complete-albania",
   "metadata": {},
   "source": [
    "#### Обучение модели"
   ]
  },
  {
   "cell_type": "code",
   "execution_count": 10,
   "id": "female-marathon",
   "metadata": {},
   "outputs": [
    {
     "name": "stdout",
     "output_type": "stream",
     "text": [
      "              precision    recall  f1-score   support\n",
      "\n",
      "           0       0.88      0.95      0.91     11360\n",
      "           1       0.79      0.61      0.69      3700\n",
      "\n",
      "    accuracy                           0.87     15060\n",
      "   macro avg       0.84      0.78      0.80     15060\n",
      "weighted avg       0.86      0.87      0.86     15060\n",
      "\n"
     ]
    }
   ],
   "source": [
    "from sklearn.ensemble import GradientBoostingClassifier\n",
    "from sklearn.metrics import classification_report\n",
    "\n",
    "model = GradientBoostingClassifier(random_state=42,\n",
    "                                  # Число деревьев\n",
    "                                  n_estimators=100,\n",
    "                                  # Максимальная глубина каждого дерева\n",
    "                                  max_depth=3,\n",
    "                                  # Параметр, уменьшающий переобучение\n",
    "                                  learning_rate=0.1\n",
    "                                  )\n",
    "model.fit(x_train, y_train)\n",
    "y_pred = model.predict(x_test)\n",
    "print(classification_report(y_test, y_pred))"
   ]
  }
 ],
 "metadata": {
  "kernelspec": {
   "display_name": "Python 3",
   "language": "python",
   "name": "python3"
  },
  "language_info": {
   "codemirror_mode": {
    "name": "ipython",
    "version": 3
   },
   "file_extension": ".py",
   "mimetype": "text/x-python",
   "name": "python",
   "nbconvert_exporter": "python",
   "pygments_lexer": "ipython3",
   "version": "3.9.2"
  }
 },
 "nbformat": 4,
 "nbformat_minor": 5
}
