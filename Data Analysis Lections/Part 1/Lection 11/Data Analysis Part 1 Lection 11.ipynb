{
 "cells": [
  {
   "cell_type": "markdown",
   "id": "sporting-dating",
   "metadata": {},
   "source": [
    "# Лекция №11. Случайный лес (Random Forest)."
   ]
  },
  {
   "cell_type": "markdown",
   "id": "destroyed-crown",
   "metadata": {},
   "source": [
    "Является методом bagging (bootstrap aggregation).  \n",
    "Строится N деревьев (параметр ```n_estimators```) и устраивается голосование. Побеждает класс, за который проголосовало больше всего деревьев (в случае классификации) или значение всех голосов усредняется и выдается в качестве ответа (в случае регрессии). Кол-во деревьев логичнее выбирать как можно большее, а затем по результатам отбрасывать лишние (т.е. например, при значении параметра ```warm_start=True``` при наращивании леса смотреть, после какого кол-ва деревьев точность перестала значительно увеличиваться)."
   ]
  },
  {
   "cell_type": "markdown",
   "id": "experimental-canvas",
   "metadata": {},
   "source": [
    "Деревья обучаются не на всей выборке (иначе они были бы одинаковыми), а на **подвыборке**, т.е. из всех строк данных отбирается (чаще всего случайным образом) некоторое заранее заданное их кол-во (параметр ```max_samples```, работает только при указании признака ```bootstrap=True```). По Брейману, это (1-1/е)* N = 0.632* N от всех данных, однако это значение можно варьировать на свое усмотрение."
   ]
  },
  {
   "cell_type": "markdown",
   "id": "senior-suicide",
   "metadata": {},
   "source": [
    "Также для каждого конкретного дерева выбираются не все признаки (параметр ```max_features```). Это делается для того, чтобы добиться декорреляции результатов разных деревьев. Т.е. чтобы деревья давали некоторую вариативность результатов. По Брейману, sqrt(M), где M - число признаков. "
   ]
  },
  {
   "cell_type": "markdown",
   "id": "atomic-investing",
   "metadata": {},
   "source": [
    "Минимальное число наблюдений в узле (параметр ```min_samples_leaf```): выбирается исходя из соображений, чтобы не наступало переобучение."
   ]
  },
  {
   "cell_type": "markdown",
   "id": "conservative-gazette",
   "metadata": {},
   "source": [
    "**Out-of-bag**: Т.к. каждое дерево из леса обучается на не всех строках данных, то оставшиеся строки данных для этого конкретного дерева можно условно считать тестовой выборкой и предварительно проверять на них качество обучения отдельных деревьев. Эти данные и назваются out-of-bag (т.е. не попавшие в обучение)."
   ]
  },
  {
   "cell_type": "markdown",
   "id": "brave-bridge",
   "metadata": {},
   "source": [
    "**Проверка значимости признаков в случайных лесах**:  \n",
    "* Считать как ранее значимость в каждом из деревьев, в которых признак использовался в качестве обучающего и складывать  \n",
    "* Выбирается признак и его значение перемешиваются внутри столбца случайным образом. Такая таблица данных попадает на обученный классификатор и анализируются полученные результаты: чем сильнее упала точность, тем значимее был признак. Если точность осталась такой же (или даже возросла), значит признак не влияет (или даже портит) классификацию/регрессию и классификатор необходимо переобучить уже без него. Далее все значения признака становятся в изначальном порядке и эксперимент проводится со следующим признаком."
   ]
  },
  {
   "cell_type": "code",
   "execution_count": 14,
   "id": "destroyed-mechanism",
   "metadata": {},
   "outputs": [],
   "source": [
    "import numpy as np\n",
    "import pandas as pd\n",
    "import matplotlib\n",
    "import matplotlib.pyplot as plt\n",
    "matplotlib.style.use('ggplot')\n",
    "%matplotlib inline\n",
    "\n",
    "from sklearn.model_selection import train_test_split\n",
    "from sklearn import metrics"
   ]
  },
  {
   "cell_type": "code",
   "execution_count": 15,
   "id": "coordinate-project",
   "metadata": {},
   "outputs": [
    {
     "data": {
      "text/html": [
       "<div>\n",
       "<style scoped>\n",
       "    .dataframe tbody tr th:only-of-type {\n",
       "        vertical-align: middle;\n",
       "    }\n",
       "\n",
       "    .dataframe tbody tr th {\n",
       "        vertical-align: top;\n",
       "    }\n",
       "\n",
       "    .dataframe thead th {\n",
       "        text-align: right;\n",
       "    }\n",
       "</style>\n",
       "<table border=\"1\" class=\"dataframe\">\n",
       "  <thead>\n",
       "    <tr style=\"text-align: right;\">\n",
       "      <th></th>\n",
       "      <th>кредит</th>\n",
       "      <th>клаcс</th>\n",
       "      <th>з_плата</th>\n",
       "      <th>возраст</th>\n",
       "      <th>кр_карта</th>\n",
       "    </tr>\n",
       "  </thead>\n",
       "  <tbody>\n",
       "    <tr>\n",
       "      <th>0</th>\n",
       "      <td>1</td>\n",
       "      <td>2</td>\n",
       "      <td>2</td>\n",
       "      <td>2</td>\n",
       "      <td>1</td>\n",
       "    </tr>\n",
       "    <tr>\n",
       "      <th>1</th>\n",
       "      <td>0</td>\n",
       "      <td>2</td>\n",
       "      <td>1</td>\n",
       "      <td>2</td>\n",
       "      <td>0</td>\n",
       "    </tr>\n",
       "    <tr>\n",
       "      <th>2</th>\n",
       "      <td>0</td>\n",
       "      <td>4</td>\n",
       "      <td>1</td>\n",
       "      <td>1</td>\n",
       "      <td>1</td>\n",
       "    </tr>\n",
       "    <tr>\n",
       "      <th>3</th>\n",
       "      <td>1</td>\n",
       "      <td>2</td>\n",
       "      <td>2</td>\n",
       "      <td>2</td>\n",
       "      <td>0</td>\n",
       "    </tr>\n",
       "    <tr>\n",
       "      <th>4</th>\n",
       "      <td>1</td>\n",
       "      <td>3</td>\n",
       "      <td>2</td>\n",
       "      <td>1</td>\n",
       "      <td>0</td>\n",
       "    </tr>\n",
       "  </tbody>\n",
       "</table>\n",
       "</div>"
      ],
      "text/plain": [
       "   кредит  клаcс  з_плата  возраст  кр_карта\n",
       "0       1      2        2        2         1\n",
       "1       0      2        1        2         0\n",
       "2       0      4        1        1         1\n",
       "3       1      2        2        2         0\n",
       "4       1      3        2        1         0"
      ]
     },
     "execution_count": 15,
     "metadata": {},
     "output_type": "execute_result"
    }
   ],
   "source": [
    "df = pd.read_csv('Credit.csv', sep=';', encoding='cp1251')\n",
    "df.head()"
   ]
  },
  {
   "cell_type": "code",
   "execution_count": 16,
   "id": "informed-coupon",
   "metadata": {},
   "outputs": [],
   "source": [
    "# Правильный ответ записываем в вектор y\n",
    "y = df[u'кредит']\n",
    "# Удаляем колонку с правильным ответом из таблицы и перемещаем в отдельный вектор ответов X\n",
    "X = df.drop(u'кредит', axis=1)"
   ]
  },
  {
   "cell_type": "code",
   "execution_count": 17,
   "id": "broke-yorkshire",
   "metadata": {},
   "outputs": [],
   "source": [
    "X_train, X_test, y_train, y_test = train_test_split(X, y, random_state=19,\n",
    "                                                    # доля объёма тестового множества\n",
    "                                                    test_size=0.33)"
   ]
  },
  {
   "cell_type": "code",
   "execution_count": 18,
   "id": "english-gossip",
   "metadata": {},
   "outputs": [],
   "source": [
    "from sklearn.ensemble import RandomForestClassifier\n",
    "model = RandomForestClassifier(random_state=42,\n",
    "                               # опции, относящиеся к отдельным деревьям такаие же, как в tree.DecisionTreeClassifier\n",
    "                               # число деревьев в лесу\n",
    "                               n_estimators=30,\n",
    "                               # функция для impurity ('gini' или 'entropy')\n",
    "                               criterion='gini',\n",
    "                               max_depth=5,\n",
    "                               # Вычислять out-of-bag ошибку\n",
    "                               oob_score=True,\n",
    "                               # использовать результаты предыдущего вызова и нарастить предыдущий лес \n",
    "                               warm_start=False,\n",
    "                               # веса классов для балансировки обучения (см. пояснение в лекции №10)\n",
    "                               class_weight=None\n",
    "                              )"
   ]
  },
  {
   "cell_type": "code",
   "execution_count": 19,
   "id": "bronze-northern",
   "metadata": {},
   "outputs": [
    {
     "name": "stderr",
     "output_type": "stream",
     "text": [
      "c:\\users\\bokoser_user\\appdata\\local\\programs\\python\\python39\\lib\\site-packages\\sklearn\\base.py:445: UserWarning: X does not have valid feature names, but RandomForestClassifier was fitted with feature names\n",
      "  warnings.warn(\n"
     ]
    },
    {
     "data": {
      "text/plain": [
       "RandomForestClassifier(max_depth=5, n_estimators=30, oob_score=True,\n",
       "                       random_state=42)"
      ]
     },
     "execution_count": 19,
     "metadata": {},
     "output_type": "execute_result"
    }
   ],
   "source": [
    "model.fit(X_train, y_train)"
   ]
  },
  {
   "cell_type": "code",
   "execution_count": 20,
   "id": "recorded-antique",
   "metadata": {},
   "outputs": [
    {
     "name": "stdout",
     "output_type": "stream",
     "text": [
      "              precision    recall  f1-score   support\n",
      "\n",
      "           0       0.86      0.88      0.87        65\n",
      "           1       0.80      0.79      0.80        42\n",
      "\n",
      "    accuracy                           0.84       107\n",
      "   macro avg       0.83      0.83      0.83       107\n",
      "weighted avg       0.84      0.84      0.84       107\n",
      "\n"
     ]
    }
   ],
   "source": [
    "y_pred = model.predict(X_test)\n",
    "print(metrics.classification_report(y_pred, y_test))"
   ]
  },
  {
   "cell_type": "markdown",
   "id": "selected-hebrew",
   "metadata": {},
   "source": [
    "Видим, что по f1-скору случаный лес дал прирост в качестве с 0.80 до 0.86 по сравнению с одним решающим деревом."
   ]
  },
  {
   "cell_type": "code",
   "execution_count": 21,
   "id": "lined-ethnic",
   "metadata": {},
   "outputs": [
    {
     "name": "stdout",
     "output_type": "stream",
     "text": [
      "Out-of-bag score: 0.8935185185185185\n"
     ]
    }
   ],
   "source": [
    "print('Out-of-bag score: {0}'.format(model.oob_score_))"
   ]
  },
  {
   "cell_type": "code",
   "execution_count": 22,
   "id": "honey-brown",
   "metadata": {},
   "outputs": [
    {
     "data": {
      "text/html": [
       "<div>\n",
       "<style scoped>\n",
       "    .dataframe tbody tr th:only-of-type {\n",
       "        vertical-align: middle;\n",
       "    }\n",
       "\n",
       "    .dataframe tbody tr th {\n",
       "        vertical-align: top;\n",
       "    }\n",
       "\n",
       "    .dataframe thead th {\n",
       "        text-align: right;\n",
       "    }\n",
       "</style>\n",
       "<table border=\"1\" class=\"dataframe\">\n",
       "  <thead>\n",
       "    <tr style=\"text-align: right;\">\n",
       "      <th></th>\n",
       "      <th>feature</th>\n",
       "      <th>importance</th>\n",
       "    </tr>\n",
       "  </thead>\n",
       "  <tbody>\n",
       "    <tr>\n",
       "      <th>1</th>\n",
       "      <td>з_плата</td>\n",
       "      <td>0.530931</td>\n",
       "    </tr>\n",
       "    <tr>\n",
       "      <th>2</th>\n",
       "      <td>возраст</td>\n",
       "      <td>0.286164</td>\n",
       "    </tr>\n",
       "    <tr>\n",
       "      <th>0</th>\n",
       "      <td>клаcс</td>\n",
       "      <td>0.162403</td>\n",
       "    </tr>\n",
       "    <tr>\n",
       "      <th>3</th>\n",
       "      <td>кр_карта</td>\n",
       "      <td>0.020502</td>\n",
       "    </tr>\n",
       "  </tbody>\n",
       "</table>\n",
       "</div>"
      ],
      "text/plain": [
       "    feature  importance\n",
       "1   з_плата    0.530931\n",
       "2   возраст    0.286164\n",
       "0     клаcс    0.162403\n",
       "3  кр_карта    0.020502"
      ]
     },
     "execution_count": 22,
     "metadata": {},
     "output_type": "execute_result"
    }
   ],
   "source": [
    "pd.DataFrame({'feature': X.columns,\n",
    "              'importance': model.feature_importances_}).sort_values('importance', ascending=False)"
   ]
  }
 ],
 "metadata": {
  "kernelspec": {
   "display_name": "Python 3",
   "language": "python",
   "name": "python3"
  },
  "language_info": {
   "codemirror_mode": {
    "name": "ipython",
    "version": 3
   },
   "file_extension": ".py",
   "mimetype": "text/x-python",
   "name": "python",
   "nbconvert_exporter": "python",
   "pygments_lexer": "ipython3",
   "version": "3.9.2"
  }
 },
 "nbformat": 4,
 "nbformat_minor": 5
}
