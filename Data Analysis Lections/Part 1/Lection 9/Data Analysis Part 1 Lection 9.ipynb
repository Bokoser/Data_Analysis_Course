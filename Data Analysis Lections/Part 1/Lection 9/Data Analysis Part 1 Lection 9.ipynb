{
 "cells": [
  {
   "cell_type": "markdown",
   "id": "fitted-national",
   "metadata": {},
   "source": [
    "# Лекция №9. Прогнозирование на основе регрессионной модели."
   ]
  },
  {
   "cell_type": "markdown",
   "id": "affiliated-account",
   "metadata": {},
   "source": [
    "Перед проведением прогнозирования с помощью методов линейной регрессии предлагается ответить на 4 вопроса:  \n",
    "- 1. Есть ли тренд у временного ряда, и, если есть, то какой?  \n",
    "- 2. Есть ли сезонность у временного ряда, и, если есть, то какая: аддитивная или мультипликативная?  \n",
    "- 3. Меняет ли ряд свой характер?  \n",
    "- 4. Присутствуют ли выбросы?"
   ]
  },
  {
   "cell_type": "markdown",
   "id": "continental-average",
   "metadata": {},
   "source": [
    "1. Позволяет изначально предположить более точную модель для прогнозирование (например, степень многочлена);"
   ]
  },
  {
   "cell_type": "markdown",
   "id": "effective-costs",
   "metadata": {},
   "source": [
    "2. **Сезонность** - повторяющиеся циклические изменения в данных.  \n",
    "**Аддитивная сезонность**: к тренду (и к модели) просто прибавляем поправку для сезона, т.е. поправка не зависит от величины самих данных.  \n",
    "**Мультипликативная сезонность**: тренд умножается на поправку, таким образом величина вклада поправки пропорциональная величине данных. При такой поправке предлагается для линейной регрессии предсказывать не саму искомую величину, а ее **логарифм**."
   ]
  },
  {
   "cell_type": "markdown",
   "id": "tropical-enemy",
   "metadata": {},
   "source": [
    "3. Данные могут поменять свой характер после изменения каких-либо внешних факторов (например, кризисы в экономике, изменения налогов и т.п.). Если существует **несколько участков данных**, между которыми происходила смена характера ряда, то для обучения предсказательной модели используется **только последний участок** как самый актуальный."
   ]
  },
  {
   "cell_type": "markdown",
   "id": "grand-collector",
   "metadata": {},
   "source": [
    "4. Выбросы могут существенным образом сказываться на качестве обучаемой модели, а также на ее предсказательном результате. Поэтому данные следует \"чистить\" от выбросов, либо просто удаляя точки из выборки (если дальнейшие инструменты позволяют работать с пропусками), либо заменять их на некоторые осознанные значения (например, средние между соседними точками)."
   ]
  },
  {
   "cell_type": "markdown",
   "id": "brief-elevation",
   "metadata": {},
   "source": [
    "*ПРИМЕЧАНИЕ*: Несмотря на то, что прогнозирование на основе линейной регрессии является одним из худших методов, его применение зачастую обуславливается невозможностью применения других методов. Например, когда в данных наблюдаются более двух видов сезонности одновременно (допустим, месячная, недельная и почасовая). Также линейная регрессия помогает при наличии коротких временных рядов (данных за 2 и менее сезонов), при которых другие методы могут либо просто не работать, либо давать неудовлетворительные результаты."
   ]
  },
  {
   "cell_type": "markdown",
   "id": "prompt-messenger",
   "metadata": {},
   "source": [
    "### Импорт библиотек"
   ]
  },
  {
   "cell_type": "code",
   "execution_count": 1,
   "id": "danish-oliver",
   "metadata": {},
   "outputs": [],
   "source": [
    "import pandas as pd\n",
    "import numpy as np\n",
    "from sklearn.linear_model import LinearRegression\n",
    "from scipy import stats\n",
    "import matplotlib\n",
    "import matplotlib.pyplot as plt\n",
    "matplotlib.style.use('ggplot')\n",
    "%matplotlib inline"
   ]
  },
  {
   "cell_type": "markdown",
   "id": "clinical-division",
   "metadata": {},
   "source": [
    "### Построение модели"
   ]
  },
  {
   "cell_type": "markdown",
   "id": "brave-speaking",
   "metadata": {},
   "source": [
    "В качестве примера будут использоваться данные о международных пассажирских авиаперевозках в тысячах человек по месяцам с 1949 по 1960 годы."
   ]
  },
  {
   "cell_type": "code",
   "execution_count": 2,
   "id": "ready-burton",
   "metadata": {},
   "outputs": [
    {
     "data": {
      "text/html": [
       "<div>\n",
       "<style scoped>\n",
       "    .dataframe tbody tr th:only-of-type {\n",
       "        vertical-align: middle;\n",
       "    }\n",
       "\n",
       "    .dataframe tbody tr th {\n",
       "        vertical-align: top;\n",
       "    }\n",
       "\n",
       "    .dataframe thead th {\n",
       "        text-align: right;\n",
       "    }\n",
       "</style>\n",
       "<table border=\"1\" class=\"dataframe\">\n",
       "  <thead>\n",
       "    <tr style=\"text-align: right;\">\n",
       "      <th></th>\n",
       "      <th>date</th>\n",
       "      <th>series_g</th>\n",
       "    </tr>\n",
       "  </thead>\n",
       "  <tbody>\n",
       "    <tr>\n",
       "      <th>0</th>\n",
       "      <td>JAN 1949</td>\n",
       "      <td>112</td>\n",
       "    </tr>\n",
       "    <tr>\n",
       "      <th>1</th>\n",
       "      <td>FEB 1949</td>\n",
       "      <td>118</td>\n",
       "    </tr>\n",
       "    <tr>\n",
       "      <th>2</th>\n",
       "      <td>MAR 1949</td>\n",
       "      <td>132</td>\n",
       "    </tr>\n",
       "    <tr>\n",
       "      <th>3</th>\n",
       "      <td>APR 1949</td>\n",
       "      <td>129</td>\n",
       "    </tr>\n",
       "    <tr>\n",
       "      <th>4</th>\n",
       "      <td>MAY 1949</td>\n",
       "      <td>121</td>\n",
       "    </tr>\n",
       "  </tbody>\n",
       "</table>\n",
       "</div>"
      ],
      "text/plain": [
       "       date  series_g\n",
       "0  JAN 1949       112\n",
       "1  FEB 1949       118\n",
       "2  MAR 1949       132\n",
       "3  APR 1949       129\n",
       "4  MAY 1949       121"
      ]
     },
     "execution_count": 2,
     "metadata": {},
     "output_type": "execute_result"
    }
   ],
   "source": [
    "df = pd.read_csv('series_g.csv', sep=';')\n",
    "df.head()"
   ]
  },
  {
   "cell_type": "code",
   "execution_count": 3,
   "id": "inclusive-reconstruction",
   "metadata": {},
   "outputs": [],
   "source": [
    "# Преобразуем строчки с датами в объект datetime\n",
    "# format='%b %Y' означает, что в нашей строчке сначала идёт трёхбуквенное название месяца (%b), а затем год (%Y)\n",
    "df['date'] = pd.to_datetime(df['date'], format='%b %Y')"
   ]
  },
  {
   "cell_type": "markdown",
   "id": "equivalent-monster",
   "metadata": {},
   "source": [
    "Построим графики объёма пассажироперевозок и проверим, какой тип тренда (линейный или нет) и какой тип сезонности ( аддитивный или мультипликативный), наблюдается. По первому графику уже прослеживается линейный тренд и мультипликативная сезонность. Но чтобы окончательно убедиться в последнем, добавим график логарифма от этой же величины. После логирафмирования циклы стали одинаковой высоты, а это и говорит о мультипликативном характере сезонности."
   ]
  },
  {
   "cell_type": "code",
   "execution_count": 4,
   "id": "individual-unemployment",
   "metadata": {},
   "outputs": [
    {
     "data": {
      "text/plain": [
       "Text(0, 0.5, 'log10 от тысяч человек')"
      ]
     },
     "execution_count": 4,
     "metadata": {},
     "output_type": "execute_result"
    },
    {
     "data": {
      "image/png": "[encoded data removed]",
      "text/plain": [
       "<Figure size 864x288 with 2 Axes>"
      ]
     },
     "metadata": {
      "needs_background": "light"
     },
     "output_type": "display_data"
    }
   ],
   "source": [
    "fig = plt.figure(figsize=(12, 4))\n",
    "ax1 = fig.add_subplot(121)\n",
    "df['series_g'].plot(ax=ax1)\n",
    "ax1.set_title(u'Объём пассажироперевозок')\n",
    "ax1.set_ylabel(u'Тысяч человек')\n",
    "\n",
    "ax2 = fig.add_subplot(122)\n",
    "pd.Series(np.log10(df['series_g'])).plot(ax=ax2)\n",
    "ax2.set_title(u'log10 от объёма пассажироперевозок')\n",
    "ax2.set_ylabel(u'log10 от тысяч человек')"
   ]
  },
  {
   "cell_type": "markdown",
   "id": "better-chapter",
   "metadata": {},
   "source": [
    "Вывод: будем строить модель линейной регрессии для приближения логарифма от объёма перевозок. То есть\n",
    "$$\\log y_i = \\beta x_i + c(x_i) + \\varepsilon_i,$$\n",
    "где $y_i$ -- объём перевозок, $x_i$ -- порядковый номер месяца, $c(x_i)$ -- сезонная составляющая, $\\varepsilon_i$ -- случайный шум."
   ]
  },
  {
   "cell_type": "markdown",
   "id": "rapid-cause",
   "metadata": {},
   "source": [
    "Для удобства дальнейшего использования создадим дополнительно 12 новых месяцев для построения прогноза на них. Для этого создадим эти 12 новых дат с помощью функции ```pd.date_range```. Данный объект будет объектом класса ```DateTimeIndex``` (наследованный от класса ```Index```), и чтобы объединить их с колонкой ```df['date']```, принадлежащей классу ```datetime64```, придётся привести последнюю к классу ```Index```. Объединим два набора дат и сохраним их в объекте ```new_dates```.\n",
    "\n",
    "Далее создадим фиктивный датафрейм ```df2```, состоящий из одной колонки с этими новыми датами, и приклеим его к исходному датафрейму ```df``` с помозью функции ```pd.merge```. Эта функция склеивает два датасета по указанному набору колонок (параметр ```on```) и по указанному правилу склейки (параметр ```how```). В ```on``` указываем одну общую колонку ```date```, по которой нужно произвести склейку. В ```how``` указываем ```right```, что означает следующее: \n",
    "возьми весь правый датасет и приклей к нему левый датасет по условию совпадения значений колонки ```on```, а в случае если для значений из правой колонки ```on``` не найдётся соотвествующих значений в левой колонке ```on```, то тогда приклей ```NaN``` значения. Вообще говоря, опция ```how``` соответствует опциям ```JOIN``` в языке SQL (```LEFT JOIN```, ```RIGHT_JOIN```, ```INNER JOIN```, ```OUTER_JOIN```)."
   ]
  },
  {
   "cell_type": "code",
   "execution_count": 6,
   "id": "pharmaceutical-madagascar",
   "metadata": {},
   "outputs": [
    {
     "name": "stderr",
     "output_type": "stream",
     "text": [
      "<ipython-input-6-a00b375a40bd>:4: FutureWarning: Index.__or__ operating as a set operation is deprecated, in the future this will be a logical operation matching Series.__or__.  Use index.union(other) instead\n",
      "  new_dates = pd.Index(df['date']) | new_dates\n"
     ]
    },
    {
     "data": {
      "text/html": [
       "<div>\n",
       "<style scoped>\n",
       "    .dataframe tbody tr th:only-of-type {\n",
       "        vertical-align: middle;\n",
       "    }\n",
       "\n",
       "    .dataframe tbody tr th {\n",
       "        vertical-align: top;\n",
       "    }\n",
       "\n",
       "    .dataframe thead th {\n",
       "        text-align: right;\n",
       "    }\n",
       "</style>\n",
       "<table border=\"1\" class=\"dataframe\">\n",
       "  <thead>\n",
       "    <tr style=\"text-align: right;\">\n",
       "      <th></th>\n",
       "      <th>date</th>\n",
       "      <th>series_g</th>\n",
       "    </tr>\n",
       "  </thead>\n",
       "  <tbody>\n",
       "    <tr>\n",
       "      <th>151</th>\n",
       "      <td>1961-08-01</td>\n",
       "      <td>NaN</td>\n",
       "    </tr>\n",
       "    <tr>\n",
       "      <th>152</th>\n",
       "      <td>1961-09-01</td>\n",
       "      <td>NaN</td>\n",
       "    </tr>\n",
       "    <tr>\n",
       "      <th>153</th>\n",
       "      <td>1961-10-01</td>\n",
       "      <td>NaN</td>\n",
       "    </tr>\n",
       "    <tr>\n",
       "      <th>154</th>\n",
       "      <td>1961-11-01</td>\n",
       "      <td>NaN</td>\n",
       "    </tr>\n",
       "    <tr>\n",
       "      <th>155</th>\n",
       "      <td>1961-12-01</td>\n",
       "      <td>NaN</td>\n",
       "    </tr>\n",
       "  </tbody>\n",
       "</table>\n",
       "</div>"
      ],
      "text/plain": [
       "          date  series_g\n",
       "151 1961-08-01       NaN\n",
       "152 1961-09-01       NaN\n",
       "153 1961-10-01       NaN\n",
       "154 1961-11-01       NaN\n",
       "155 1961-12-01       NaN"
      ]
     },
     "execution_count": 6,
     "metadata": {},
     "output_type": "execute_result"
    }
   ],
   "source": [
    "# Создаём последовательсть месяцев. freq='MS' означает первое число каждого месяца из указанного диапазона дат\n",
    "new_dates = pd.date_range('1961-01-01', '1961-12-01', freq='MS')\n",
    "# Приводим df['date'] к типу Index, объединяем с 12 месяцами, полученными на предыдущем шаге\n",
    "new_dates = pd.Index(df['date']) | new_dates\n",
    "# Создаём датафрейм из одной колонки с расширенным набором дат\n",
    "df2 = pd.DataFrame({'date': new_dates})\n",
    "# Объединяем два датафрейма по колонке 'date'.\n",
    "df = pd.merge(df, df2, on='date', how='right')\n",
    "df.tail()"
   ]
  },
  {
   "cell_type": "markdown",
   "id": "accomplished-cambridge",
   "metadata": {},
   "source": [
    "Создадим регрессионную переменную ```month_num``` -- порядковый номер пары (месяц, год).Это необходимо для математических преобразований, т.к. с датами работать неудобно. И прологарифмируем таргет."
   ]
  },
  {
   "cell_type": "code",
   "execution_count": 7,
   "id": "selected-orientation",
   "metadata": {},
   "outputs": [
    {
     "data": {
      "text/html": [
       "<div>\n",
       "<style scoped>\n",
       "    .dataframe tbody tr th:only-of-type {\n",
       "        vertical-align: middle;\n",
       "    }\n",
       "\n",
       "    .dataframe tbody tr th {\n",
       "        vertical-align: top;\n",
       "    }\n",
       "\n",
       "    .dataframe thead th {\n",
       "        text-align: right;\n",
       "    }\n",
       "</style>\n",
       "<table border=\"1\" class=\"dataframe\">\n",
       "  <thead>\n",
       "    <tr style=\"text-align: right;\">\n",
       "      <th></th>\n",
       "      <th>date</th>\n",
       "      <th>series_g</th>\n",
       "      <th>month_num</th>\n",
       "      <th>log_y</th>\n",
       "    </tr>\n",
       "  </thead>\n",
       "  <tbody>\n",
       "    <tr>\n",
       "      <th>151</th>\n",
       "      <td>1961-08-01</td>\n",
       "      <td>NaN</td>\n",
       "      <td>152</td>\n",
       "      <td>NaN</td>\n",
       "    </tr>\n",
       "    <tr>\n",
       "      <th>152</th>\n",
       "      <td>1961-09-01</td>\n",
       "      <td>NaN</td>\n",
       "      <td>153</td>\n",
       "      <td>NaN</td>\n",
       "    </tr>\n",
       "    <tr>\n",
       "      <th>153</th>\n",
       "      <td>1961-10-01</td>\n",
       "      <td>NaN</td>\n",
       "      <td>154</td>\n",
       "      <td>NaN</td>\n",
       "    </tr>\n",
       "    <tr>\n",
       "      <th>154</th>\n",
       "      <td>1961-11-01</td>\n",
       "      <td>NaN</td>\n",
       "      <td>155</td>\n",
       "      <td>NaN</td>\n",
       "    </tr>\n",
       "    <tr>\n",
       "      <th>155</th>\n",
       "      <td>1961-12-01</td>\n",
       "      <td>NaN</td>\n",
       "      <td>156</td>\n",
       "      <td>NaN</td>\n",
       "    </tr>\n",
       "  </tbody>\n",
       "</table>\n",
       "</div>"
      ],
      "text/plain": [
       "          date  series_g  month_num  log_y\n",
       "151 1961-08-01       NaN        152    NaN\n",
       "152 1961-09-01       NaN        153    NaN\n",
       "153 1961-10-01       NaN        154    NaN\n",
       "154 1961-11-01       NaN        155    NaN\n",
       "155 1961-12-01       NaN        156    NaN"
      ]
     },
     "execution_count": 7,
     "metadata": {},
     "output_type": "execute_result"
    }
   ],
   "source": [
    "df['month_num'] = range(1, len(df) + 1)\n",
    "df['log_y'] = np.log10(df['series_g'])\n",
    "df.tail()"
   ]
  },
  {
   "cell_type": "markdown",
   "id": "catholic-empire",
   "metadata": {},
   "source": [
    "Создадим 12 колонок ```season_1```, ```season_2```, ..., ```season_12```, в которые поместим индикаторы соответствующего месяца. Чтобы достать порядковый номер месяца в каждой строчке, применим последовательно пару методов ```dt``` и ```month``` к колонке ```df['date']```. Внутри цикла будем проверять, равен ли очередной месяц текущему значению из цикла. Таким образом, каждая колонка заполнится так, что для соответствующего месяца в ней будут единицы, а для остальных месяцев - нули."
   ]
  },
  {
   "cell_type": "code",
   "execution_count": 8,
   "id": "large-scottish",
   "metadata": {},
   "outputs": [
    {
     "data": {
      "text/html": [
       "<div>\n",
       "<style scoped>\n",
       "    .dataframe tbody tr th:only-of-type {\n",
       "        vertical-align: middle;\n",
       "    }\n",
       "\n",
       "    .dataframe tbody tr th {\n",
       "        vertical-align: top;\n",
       "    }\n",
       "\n",
       "    .dataframe thead th {\n",
       "        text-align: right;\n",
       "    }\n",
       "</style>\n",
       "<table border=\"1\" class=\"dataframe\">\n",
       "  <thead>\n",
       "    <tr style=\"text-align: right;\">\n",
       "      <th></th>\n",
       "      <th>date</th>\n",
       "      <th>series_g</th>\n",
       "      <th>month_num</th>\n",
       "      <th>log_y</th>\n",
       "      <th>season_1</th>\n",
       "      <th>season_2</th>\n",
       "      <th>season_3</th>\n",
       "      <th>season_4</th>\n",
       "      <th>season_5</th>\n",
       "      <th>season_6</th>\n",
       "      <th>season_7</th>\n",
       "      <th>season_8</th>\n",
       "      <th>season_9</th>\n",
       "      <th>season_10</th>\n",
       "      <th>season_11</th>\n",
       "      <th>season_12</th>\n",
       "    </tr>\n",
       "  </thead>\n",
       "  <tbody>\n",
       "    <tr>\n",
       "      <th>0</th>\n",
       "      <td>1949-01-01</td>\n",
       "      <td>112.0</td>\n",
       "      <td>1</td>\n",
       "      <td>2.049218</td>\n",
       "      <td>True</td>\n",
       "      <td>False</td>\n",
       "      <td>False</td>\n",
       "      <td>False</td>\n",
       "      <td>False</td>\n",
       "      <td>False</td>\n",
       "      <td>False</td>\n",
       "      <td>False</td>\n",
       "      <td>False</td>\n",
       "      <td>False</td>\n",
       "      <td>False</td>\n",
       "      <td>False</td>\n",
       "    </tr>\n",
       "    <tr>\n",
       "      <th>1</th>\n",
       "      <td>1949-02-01</td>\n",
       "      <td>118.0</td>\n",
       "      <td>2</td>\n",
       "      <td>2.071882</td>\n",
       "      <td>False</td>\n",
       "      <td>True</td>\n",
       "      <td>False</td>\n",
       "      <td>False</td>\n",
       "      <td>False</td>\n",
       "      <td>False</td>\n",
       "      <td>False</td>\n",
       "      <td>False</td>\n",
       "      <td>False</td>\n",
       "      <td>False</td>\n",
       "      <td>False</td>\n",
       "      <td>False</td>\n",
       "    </tr>\n",
       "    <tr>\n",
       "      <th>2</th>\n",
       "      <td>1949-03-01</td>\n",
       "      <td>132.0</td>\n",
       "      <td>3</td>\n",
       "      <td>2.120574</td>\n",
       "      <td>False</td>\n",
       "      <td>False</td>\n",
       "      <td>True</td>\n",
       "      <td>False</td>\n",
       "      <td>False</td>\n",
       "      <td>False</td>\n",
       "      <td>False</td>\n",
       "      <td>False</td>\n",
       "      <td>False</td>\n",
       "      <td>False</td>\n",
       "      <td>False</td>\n",
       "      <td>False</td>\n",
       "    </tr>\n",
       "    <tr>\n",
       "      <th>3</th>\n",
       "      <td>1949-04-01</td>\n",
       "      <td>129.0</td>\n",
       "      <td>4</td>\n",
       "      <td>2.110590</td>\n",
       "      <td>False</td>\n",
       "      <td>False</td>\n",
       "      <td>False</td>\n",
       "      <td>True</td>\n",
       "      <td>False</td>\n",
       "      <td>False</td>\n",
       "      <td>False</td>\n",
       "      <td>False</td>\n",
       "      <td>False</td>\n",
       "      <td>False</td>\n",
       "      <td>False</td>\n",
       "      <td>False</td>\n",
       "    </tr>\n",
       "    <tr>\n",
       "      <th>4</th>\n",
       "      <td>1949-05-01</td>\n",
       "      <td>121.0</td>\n",
       "      <td>5</td>\n",
       "      <td>2.082785</td>\n",
       "      <td>False</td>\n",
       "      <td>False</td>\n",
       "      <td>False</td>\n",
       "      <td>False</td>\n",
       "      <td>True</td>\n",
       "      <td>False</td>\n",
       "      <td>False</td>\n",
       "      <td>False</td>\n",
       "      <td>False</td>\n",
       "      <td>False</td>\n",
       "      <td>False</td>\n",
       "      <td>False</td>\n",
       "    </tr>\n",
       "  </tbody>\n",
       "</table>\n",
       "</div>"
      ],
      "text/plain": [
       "        date  series_g  month_num     log_y  season_1  season_2  season_3  \\\n",
       "0 1949-01-01     112.0          1  2.049218      True     False     False   \n",
       "1 1949-02-01     118.0          2  2.071882     False      True     False   \n",
       "2 1949-03-01     132.0          3  2.120574     False     False      True   \n",
       "3 1949-04-01     129.0          4  2.110590     False     False     False   \n",
       "4 1949-05-01     121.0          5  2.082785     False     False     False   \n",
       "\n",
       "   season_4  season_5  season_6  season_7  season_8  season_9  season_10  \\\n",
       "0     False     False     False     False     False     False      False   \n",
       "1     False     False     False     False     False     False      False   \n",
       "2     False     False     False     False     False     False      False   \n",
       "3      True     False     False     False     False     False      False   \n",
       "4     False      True     False     False     False     False      False   \n",
       "\n",
       "   season_11  season_12  \n",
       "0      False      False  \n",
       "1      False      False  \n",
       "2      False      False  \n",
       "3      False      False  \n",
       "4      False      False  "
      ]
     },
     "execution_count": 8,
     "metadata": {},
     "output_type": "execute_result"
    }
   ],
   "source": [
    "for x in range(1, 13):\n",
    "    df['season_' + str(x)] = df['date'].dt.month == x\n",
    "df.head()"
   ]
  },
  {
   "cell_type": "markdown",
   "id": "continuous-status",
   "metadata": {},
   "source": [
    "Созданные ранее колонки являются линейно зависимыми с колонкой при свободном члене, т.к. \"данные\" при свободном члене всегда равны 1, а если сложить все образованные ранее колонки, то получится тоже самое. Для устранения линейной зависимости между колонками необходимо перейти не к абсолютным поправкам, а к относительным, т.е. выбрать какой-то столбец и вычесть его из всех остальных. Тогда поправки будут отражать сезонные изменения **относительно выбранного столбца**. Пусть базовым месяцем будет январь."
   ]
  },
  {
   "cell_type": "code",
   "execution_count": 9,
   "id": "driven-bumper",
   "metadata": {},
   "outputs": [
    {
     "data": {
      "text/html": [
       "<div>\n",
       "<style scoped>\n",
       "    .dataframe tbody tr th:only-of-type {\n",
       "        vertical-align: middle;\n",
       "    }\n",
       "\n",
       "    .dataframe tbody tr th {\n",
       "        vertical-align: top;\n",
       "    }\n",
       "\n",
       "    .dataframe thead th {\n",
       "        text-align: right;\n",
       "    }\n",
       "</style>\n",
       "<table border=\"1\" class=\"dataframe\">\n",
       "  <thead>\n",
       "    <tr style=\"text-align: right;\">\n",
       "      <th></th>\n",
       "      <th>month_num</th>\n",
       "      <th>season_2</th>\n",
       "      <th>season_3</th>\n",
       "      <th>season_4</th>\n",
       "      <th>season_5</th>\n",
       "      <th>season_6</th>\n",
       "      <th>season_7</th>\n",
       "      <th>season_8</th>\n",
       "      <th>season_9</th>\n",
       "      <th>season_10</th>\n",
       "      <th>season_11</th>\n",
       "      <th>season_12</th>\n",
       "    </tr>\n",
       "  </thead>\n",
       "  <tbody>\n",
       "    <tr>\n",
       "      <th>0</th>\n",
       "      <td>1</td>\n",
       "      <td>False</td>\n",
       "      <td>False</td>\n",
       "      <td>False</td>\n",
       "      <td>False</td>\n",
       "      <td>False</td>\n",
       "      <td>False</td>\n",
       "      <td>False</td>\n",
       "      <td>False</td>\n",
       "      <td>False</td>\n",
       "      <td>False</td>\n",
       "      <td>False</td>\n",
       "    </tr>\n",
       "    <tr>\n",
       "      <th>1</th>\n",
       "      <td>2</td>\n",
       "      <td>True</td>\n",
       "      <td>False</td>\n",
       "      <td>False</td>\n",
       "      <td>False</td>\n",
       "      <td>False</td>\n",
       "      <td>False</td>\n",
       "      <td>False</td>\n",
       "      <td>False</td>\n",
       "      <td>False</td>\n",
       "      <td>False</td>\n",
       "      <td>False</td>\n",
       "    </tr>\n",
       "    <tr>\n",
       "      <th>2</th>\n",
       "      <td>3</td>\n",
       "      <td>False</td>\n",
       "      <td>True</td>\n",
       "      <td>False</td>\n",
       "      <td>False</td>\n",
       "      <td>False</td>\n",
       "      <td>False</td>\n",
       "      <td>False</td>\n",
       "      <td>False</td>\n",
       "      <td>False</td>\n",
       "      <td>False</td>\n",
       "      <td>False</td>\n",
       "    </tr>\n",
       "    <tr>\n",
       "      <th>3</th>\n",
       "      <td>4</td>\n",
       "      <td>False</td>\n",
       "      <td>False</td>\n",
       "      <td>True</td>\n",
       "      <td>False</td>\n",
       "      <td>False</td>\n",
       "      <td>False</td>\n",
       "      <td>False</td>\n",
       "      <td>False</td>\n",
       "      <td>False</td>\n",
       "      <td>False</td>\n",
       "      <td>False</td>\n",
       "    </tr>\n",
       "    <tr>\n",
       "      <th>4</th>\n",
       "      <td>5</td>\n",
       "      <td>False</td>\n",
       "      <td>False</td>\n",
       "      <td>False</td>\n",
       "      <td>True</td>\n",
       "      <td>False</td>\n",
       "      <td>False</td>\n",
       "      <td>False</td>\n",
       "      <td>False</td>\n",
       "      <td>False</td>\n",
       "      <td>False</td>\n",
       "      <td>False</td>\n",
       "    </tr>\n",
       "  </tbody>\n",
       "</table>\n",
       "</div>"
      ],
      "text/plain": [
       "   month_num  season_2  season_3  season_4  season_5  season_6  season_7  \\\n",
       "0          1     False     False     False     False     False     False   \n",
       "1          2      True     False     False     False     False     False   \n",
       "2          3     False      True     False     False     False     False   \n",
       "3          4     False     False      True     False     False     False   \n",
       "4          5     False     False     False      True     False     False   \n",
       "\n",
       "   season_8  season_9  season_10  season_11  season_12  \n",
       "0     False     False      False      False      False  \n",
       "1     False     False      False      False      False  \n",
       "2     False     False      False      False      False  \n",
       "3     False     False      False      False      False  \n",
       "4     False     False      False      False      False  "
      ]
     },
     "execution_count": 9,
     "metadata": {},
     "output_type": "execute_result"
    }
   ],
   "source": [
    "# range(2, 13) соответствует всем месяцам с февраля по декабрь\n",
    "season_columns = ['season_' + str(x) for x in range(2, 13)]\n",
    "\n",
    "# Создадим объекты матрицу X и вектор y для обучения модели\n",
    "X = df[['month_num'] + season_columns]\n",
    "y = df['log_y']\n",
    "\n",
    "# Оставим только те строчки, у которых известны значения y (с номером < 144)\n",
    "X1 = X[X.index < 144]\n",
    "y1 = y[y.index < 144]\n",
    "X.head()"
   ]
  },
  {
   "cell_type": "markdown",
   "id": "circular-reverse",
   "metadata": {},
   "source": [
    "Настраиваем линейную регрессионную модель."
   ]
  },
  {
   "cell_type": "code",
   "execution_count": 9,
   "id": "satellite-citation",
   "metadata": {},
   "outputs": [
    {
     "data": {
      "text/plain": [
       "LinearRegression()"
      ]
     },
     "execution_count": 9,
     "metadata": {},
     "output_type": "execute_result"
    }
   ],
   "source": [
    "model = LinearRegression()\n",
    "model.fit(X1, y1)"
   ]
  },
  {
   "cell_type": "markdown",
   "id": "heated-easter",
   "metadata": {},
   "source": [
    "Построим нашу модель вместе с реальными данными, чтобы визуально оценить ее качество."
   ]
  },
  {
   "cell_type": "code",
   "execution_count": 10,
   "id": "prompt-manchester",
   "metadata": {},
   "outputs": [
    {
     "data": {
      "text/plain": [
       "<AxesSubplot:>"
      ]
     },
     "execution_count": 10,
     "metadata": {},
     "output_type": "execute_result"
    },
    {
     "data": {
      "image/png": "[encoded data removed]",
      "text/plain": [
       "<Figure size 432x288 with 1 Axes>"
      ]
     },
     "metadata": {
      "needs_background": "light"
     },
     "output_type": "display_data"
    }
   ],
   "source": [
    "pred = pd.DataFrame({\n",
    "    'pred': model.predict(X1),\n",
    "    'real': y1})\n",
    "pred.plot()"
   ]
  },
  {
   "cell_type": "markdown",
   "id": "supposed-navigation",
   "metadata": {},
   "source": [
    "Теперь построим предсказание для всей матрицы ```X```, включая неизвестные 12 месяцев."
   ]
  },
  {
   "cell_type": "code",
   "execution_count": 11,
   "id": "pointed-antigua",
   "metadata": {},
   "outputs": [
    {
     "data": {
      "text/plain": [
       "<AxesSubplot:>"
      ]
     },
     "execution_count": 11,
     "metadata": {},
     "output_type": "execute_result"
    },
    {
     "data": {
      "image/png": "[encoded data removed]",
      "text/plain": [
       "<Figure size 432x288 with 1 Axes>"
      ]
     },
     "metadata": {
      "needs_background": "light"
     },
     "output_type": "display_data"
    }
   ],
   "source": [
    "pred = pd.DataFrame({\n",
    "    'pred': model.predict(X),\n",
    "    'real': y})\n",
    "pred.plot()"
   ]
  },
  {
   "cell_type": "markdown",
   "id": "buried-dictionary",
   "metadata": {},
   "source": [
    "Выведем численные значения предсказанной переменной y на следующие 12 месяцев."
   ]
  },
  {
   "cell_type": "code",
   "execution_count": 12,
   "id": "handled-poster",
   "metadata": {},
   "outputs": [
    {
     "name": "stdout",
     "output_type": "stream",
     "text": [
      "144    2.686874\n",
      "145    2.681669\n",
      "146    2.742599\n",
      "147    2.733392\n",
      "148    2.736734\n",
      "149    2.794154\n",
      "150    2.843669\n",
      "151    2.844005\n",
      "152    2.785564\n",
      "153    2.729935\n",
      "154    2.671892\n",
      "155    2.725716\n",
      "Name: pred, dtype: float64\n"
     ]
    }
   ],
   "source": [
    "print(pred['pred'][144:])"
   ]
  },
  {
   "cell_type": "markdown",
   "id": "median-camera",
   "metadata": {},
   "source": [
    "# Лекция №9.5. Кросс-валидация и kNN (k-Nearest Neighbours, k-ближайших соседей)."
   ]
  },
  {
   "cell_type": "markdown",
   "id": "municipal-boring",
   "metadata": {},
   "source": [
    "*Примечание*: Этих материалов не было в курсе 2018 года, на основе которого остальная часть конспектов. Это раздел из курса 2021 года: https://www.youtube.com/playlist?list=PL5OwdzVJ1GaYjMu2JsHDwbY-NTRCVZxGs. Отсюда и странная нумерация лекции."
   ]
  },
  {
   "cell_type": "markdown",
   "id": "appropriate-kitty",
   "metadata": {},
   "source": [
    "### Кросс-валидация"
   ]
  },
  {
   "cell_type": "markdown",
   "id": "afraid-printing",
   "metadata": {},
   "source": [
    "Смысл кросс-валидации состоит в уменьшении влияния данного конкретного разбиения выборки на обучающую и тестовую (или валидационную) на результат работы классификатора (например, его точность)."
   ]
  },
  {
   "cell_type": "markdown",
   "id": "intimate-eagle",
   "metadata": {},
   "source": [
    "*В идеальном случае*: разбиваем изначальную выборку на обучающую и тестовую (либо изначально имеем две отдельные выборки). Тестовая выборка используется **только** для проверки **конечного** варианта классификатора. Обучающая выборка разбивается случайным образом на k-частей, называемых folds (k-fold cross-validation). Затем k раз производится обучение классификатора, каждый раз в качестве валидационной используется новая выборка из folds, а остальные вместе - как обучающая. После этого получаем k обученных классификаторов, результаты работы которых учитывают при итоговом ответе (например, усредняют для регрессии или берут максимум для классификации). Только после этого финальный усредненный классификатор проверяется на заранее отложенной тестовой выборке."
   ]
  },
  {
   "cell_type": "markdown",
   "id": "chicken-garlic",
   "metadata": {},
   "source": [
    "### Метод k-ближайших соседей"
   ]
  },
  {
   "cell_type": "markdown",
   "id": "joined-profile",
   "metadata": {},
   "source": [
    "*Определение для задачи классификации*: **Метод k-ближайших соседей** - классификатор, который каждое новое значение относит к тому классу, к которому принадлежит большинство из k ближайших к данной новой точке (согласно выбранной метрике расстояния) значений."
   ]
  },
  {
   "cell_type": "markdown",
   "id": "illegal-garden",
   "metadata": {},
   "source": [
    "*Определение для задачи регрессии*: **Метод k-ближайших соседей** - классификатор, который каждому новому значению присваивает среднее, рассчитанное по k ближайших к данной новой точке (согласно выбранной метрике расстояния) значений."
   ]
  },
  {
   "attachments": {
    "59-2.png": {
     "image/png": "[encoded data removed]"
    }
   },
   "cell_type": "markdown",
   "id": "musical-festival",
   "metadata": {},
   "source": [
    "Иллюстрация: при k=3 новая точка (кружок) будет классифицирована как треугольник, а при k=5 - как квадрат.\n",
    "![59-2.png](attachment:59-2.png)"
   ]
  },
  {
   "cell_type": "markdown",
   "id": "spoken-serum",
   "metadata": {},
   "source": [
    "**Достоинства**:  \n",
    "+ Метод k-ближайших соседей является **состоятельным**. **Состоятельный метод** - метод, точность которого стремится к точности байесовского классификатора при числе наблюдений, стремящемся к бесконечности. Байесовский классификатор имеет максимальную точность (accuracy), но только тогда, когда известно совместное распределение предикторов и отклика (что на практике не бывает почти никогда).\n",
    "+ Легко добавить в классификатор новое наблюдение."
   ]
  },
  {
   "cell_type": "markdown",
   "id": "effective-extreme",
   "metadata": {},
   "source": [
    "**Недостатки**:  \n",
    "- Малоинформативные переменные и шум очень сильно влияют на результат классификации. Т.е. требуется более подробный и тщательный предварительный анализ данных. Также необходимо стандартизировать переменные;\n",
    "- Большой объем вычислений;\n",
    "- Чувствительность к несбалансированности объемов классов."
   ]
  },
  {
   "cell_type": "markdown",
   "id": "continued-tuner",
   "metadata": {},
   "source": [
    "Если среди k-соседей невозможно однозначно определить доминирующий класс (классы разделились на равные части), то для конкретной данной новой точки количество соседей, по которым определяют класс, увеличивается."
   ]
  },
  {
   "cell_type": "markdown",
   "id": "pressed-monthly",
   "metadata": {},
   "source": [
    "Результат работы классификатора можно интерпретировать как вероятность принадлежать классу m, если кол-во элементов, принадлежащих классу m разделить на k: $p_m$ = $n_m$/k. "
   ]
  },
  {
   "cell_type": "markdown",
   "id": "listed-lesbian",
   "metadata": {},
   "source": [
    "На практике применяют модификацию метода, в которой при выборе большинства/подсчете среднего классы соседей учитываются с весовыми коэффициентами, обратно пропорциональными расстоянию до новой классифицируемой точки."
   ]
  },
  {
   "cell_type": "markdown",
   "id": "antique-olympus",
   "metadata": {},
   "source": [
    "**Гиперпараметры**:  \n",
    "* k - число ближайших соседей;  \n",
    "* метод вычисления расстояния."
   ]
  },
  {
   "cell_type": "markdown",
   "id": "sacred-sheffield",
   "metadata": {},
   "source": [
    "### Пример №1"
   ]
  },
  {
   "cell_type": "code",
   "execution_count": 13,
   "id": "surprising-speech",
   "metadata": {},
   "outputs": [],
   "source": [
    "import pandas as pd\n",
    "import numpy as np\n",
    "import matplotlib\n",
    "import matplotlib.pyplot as plt\n",
    "matplotlib.style.use('ggplot')\n",
    "%matplotlib inline"
   ]
  },
  {
   "cell_type": "code",
   "execution_count": 14,
   "id": "quiet-guard",
   "metadata": {},
   "outputs": [],
   "source": [
    "from sklearn.model_selection import train_test_split, KFold\n",
    "from sklearn.neighbors import KNeighborsClassifier\n",
    "from sklearn import metrics\n",
    "from sklearn.preprocessing import StandardScaler"
   ]
  },
  {
   "cell_type": "code",
   "execution_count": 15,
   "id": "fewer-jamaica",
   "metadata": {},
   "outputs": [
    {
     "data": {
      "text/html": [
       "<div>\n",
       "<style scoped>\n",
       "    .dataframe tbody tr th:only-of-type {\n",
       "        vertical-align: middle;\n",
       "    }\n",
       "\n",
       "    .dataframe tbody tr th {\n",
       "        vertical-align: top;\n",
       "    }\n",
       "\n",
       "    .dataframe thead th {\n",
       "        text-align: right;\n",
       "    }\n",
       "</style>\n",
       "<table border=\"1\" class=\"dataframe\">\n",
       "  <thead>\n",
       "    <tr style=\"text-align: right;\">\n",
       "      <th></th>\n",
       "      <th>Input1</th>\n",
       "      <th>Input2</th>\n",
       "      <th>Input3</th>\n",
       "      <th>Input4</th>\n",
       "      <th>Input5</th>\n",
       "      <th>Input6</th>\n",
       "      <th>Input7</th>\n",
       "      <th>Input8</th>\n",
       "      <th>Input9</th>\n",
       "      <th>Input10</th>\n",
       "      <th>Input11</th>\n",
       "      <th>Input12</th>\n",
       "      <th>Input13</th>\n",
       "      <th>Desired1(3)</th>\n",
       "    </tr>\n",
       "  </thead>\n",
       "  <tbody>\n",
       "    <tr>\n",
       "      <th>0</th>\n",
       "      <td>14.23</td>\n",
       "      <td>1.71</td>\n",
       "      <td>2.43</td>\n",
       "      <td>15.6</td>\n",
       "      <td>127</td>\n",
       "      <td>2.80</td>\n",
       "      <td>3.06</td>\n",
       "      <td>0.28</td>\n",
       "      <td>2.29</td>\n",
       "      <td>5.64</td>\n",
       "      <td>1.04</td>\n",
       "      <td>3.92</td>\n",
       "      <td>1065</td>\n",
       "      <td>0</td>\n",
       "    </tr>\n",
       "    <tr>\n",
       "      <th>1</th>\n",
       "      <td>13.20</td>\n",
       "      <td>1.78</td>\n",
       "      <td>2.14</td>\n",
       "      <td>11.2</td>\n",
       "      <td>100</td>\n",
       "      <td>2.65</td>\n",
       "      <td>2.76</td>\n",
       "      <td>0.26</td>\n",
       "      <td>1.28</td>\n",
       "      <td>4.38</td>\n",
       "      <td>1.05</td>\n",
       "      <td>3.40</td>\n",
       "      <td>1050</td>\n",
       "      <td>0</td>\n",
       "    </tr>\n",
       "    <tr>\n",
       "      <th>2</th>\n",
       "      <td>13.16</td>\n",
       "      <td>2.36</td>\n",
       "      <td>2.67</td>\n",
       "      <td>18.6</td>\n",
       "      <td>101</td>\n",
       "      <td>2.80</td>\n",
       "      <td>3.24</td>\n",
       "      <td>0.30</td>\n",
       "      <td>2.81</td>\n",
       "      <td>5.68</td>\n",
       "      <td>1.03</td>\n",
       "      <td>3.17</td>\n",
       "      <td>1185</td>\n",
       "      <td>0</td>\n",
       "    </tr>\n",
       "    <tr>\n",
       "      <th>3</th>\n",
       "      <td>14.37</td>\n",
       "      <td>1.95</td>\n",
       "      <td>2.50</td>\n",
       "      <td>16.8</td>\n",
       "      <td>113</td>\n",
       "      <td>3.85</td>\n",
       "      <td>3.49</td>\n",
       "      <td>0.24</td>\n",
       "      <td>2.18</td>\n",
       "      <td>7.80</td>\n",
       "      <td>0.86</td>\n",
       "      <td>3.45</td>\n",
       "      <td>1480</td>\n",
       "      <td>0</td>\n",
       "    </tr>\n",
       "    <tr>\n",
       "      <th>4</th>\n",
       "      <td>13.24</td>\n",
       "      <td>2.59</td>\n",
       "      <td>2.87</td>\n",
       "      <td>21.0</td>\n",
       "      <td>118</td>\n",
       "      <td>2.80</td>\n",
       "      <td>2.69</td>\n",
       "      <td>0.39</td>\n",
       "      <td>1.82</td>\n",
       "      <td>4.32</td>\n",
       "      <td>1.04</td>\n",
       "      <td>2.93</td>\n",
       "      <td>735</td>\n",
       "      <td>0</td>\n",
       "    </tr>\n",
       "  </tbody>\n",
       "</table>\n",
       "</div>"
      ],
      "text/plain": [
       "   Input1  Input2  Input3  Input4  Input5  Input6  Input7  Input8  Input9  \\\n",
       "0   14.23    1.71    2.43    15.6     127    2.80    3.06    0.28    2.29   \n",
       "1   13.20    1.78    2.14    11.2     100    2.65    2.76    0.26    1.28   \n",
       "2   13.16    2.36    2.67    18.6     101    2.80    3.24    0.30    2.81   \n",
       "3   14.37    1.95    2.50    16.8     113    3.85    3.49    0.24    2.18   \n",
       "4   13.24    2.59    2.87    21.0     118    2.80    2.69    0.39    1.82   \n",
       "\n",
       "   Input10  Input11  Input12  Input13  Desired1(3)  \n",
       "0     5.64     1.04     3.92     1065            0  \n",
       "1     4.38     1.05     3.40     1050            0  \n",
       "2     5.68     1.03     3.17     1185            0  \n",
       "3     7.80     0.86     3.45     1480            0  \n",
       "4     4.32     1.04     2.93      735            0  "
      ]
     },
     "execution_count": 15,
     "metadata": {},
     "output_type": "execute_result"
    }
   ],
   "source": [
    "df = pd.read_csv('Wine.txt', sep='\\t')\n",
    "df.head()"
   ]
  },
  {
   "cell_type": "markdown",
   "id": "banned-nepal",
   "metadata": {},
   "source": [
    "Разделяем предикторы и отклик"
   ]
  },
  {
   "cell_type": "code",
   "execution_count": 16,
   "id": "optimum-broadcast",
   "metadata": {},
   "outputs": [],
   "source": [
    "X = df.iloc[:,:-1].values\n",
    "y = df.iloc[:,13].values"
   ]
  },
  {
   "cell_type": "markdown",
   "id": "selected-ukraine",
   "metadata": {},
   "source": [
    "Применяем разбиение на folds для кросс-валидации:  \n",
    "* n_splits - кол-во folds;  \n",
    "* shuffle - перемешивать ли данные при разбиении на folds или брать подряд."
   ]
  },
  {
   "cell_type": "code",
   "execution_count": 17,
   "id": "sharing-figure",
   "metadata": {},
   "outputs": [],
   "source": [
    "n_folds = 5\n",
    "kf = KFold(n_splits=n_folds, shuffle=True, random_state=19)"
   ]
  },
  {
   "cell_type": "code",
   "execution_count": 18,
   "id": "connected-alloy",
   "metadata": {},
   "outputs": [],
   "source": [
    "# Варианты значений числа соседей\n",
    "search_space = [i for i in range(1,16)]"
   ]
  },
  {
   "cell_type": "markdown",
   "id": "sound-butter",
   "metadata": {},
   "source": [
    "Подготовим вектор для хранения результатов подсчета accuracy заранее, т.к. append является неэффективным."
   ]
  },
  {
   "cell_type": "code",
   "execution_count": 19,
   "id": "democratic-driver",
   "metadata": {},
   "outputs": [],
   "source": [
    "accuracies = np.full((n_folds, len(search_space)), -9999.0)"
   ]
  },
  {
   "cell_type": "code",
   "execution_count": 20,
   "id": "comprehensive-collaboration",
   "metadata": {},
   "outputs": [
    {
     "name": "stdout",
     "output_type": "stream",
     "text": [
      "[[0.88888889 0.83333333 0.91666667 0.86111111 0.88888889 0.83333333\n",
      "  0.91666667 0.91666667 0.91666667 0.91666667 0.91666667 0.91666667\n",
      "  0.94444444 0.91666667 0.91666667]\n",
      " [0.91666667 0.91666667 0.91666667 0.91666667 0.94444444 0.94444444\n",
      "  0.94444444 0.94444444 1.         0.94444444 1.         0.94444444\n",
      "  0.97222222 1.         1.        ]\n",
      " [0.97222222 0.97222222 0.97222222 0.91666667 0.94444444 0.91666667\n",
      "  0.91666667 0.91666667 0.94444444 0.91666667 0.94444444 0.91666667\n",
      "  0.94444444 0.94444444 0.94444444]\n",
      " [0.94285714 0.94285714 1.         1.         1.         0.97142857\n",
      "  1.         0.97142857 1.         1.         1.         1.\n",
      "  1.         0.97142857 0.97142857]\n",
      " [0.97142857 0.91428571 0.91428571 0.88571429 0.97142857 0.91428571\n",
      "  0.97142857 0.94285714 1.         0.97142857 0.97142857 0.91428571\n",
      "  0.97142857 0.94285714 1.        ]]\n"
     ]
    }
   ],
   "source": [
    "fold_num = 0\n",
    "for train_index, test_index in kf.split(X):\n",
    "    X_train, X_test = X[train_index], X[test_index]\n",
    "    y_train, y_test = y[train_index], y[test_index]\n",
    "    \n",
    "    scaler = StandardScaler()\n",
    "    scaler.fit(X_train)\n",
    "    X_train = scaler.transform(X_train)\n",
    "    X_test = scaler.transform(X_test)\n",
    "    \n",
    "    j_count = 0\n",
    "    for j in search_space:\n",
    "        knn_res = KNeighborsClassifier(n_neighbors=j)\n",
    "        knn_res.fit(X_train, y_train)\n",
    "        predictions = knn_res.predict(X_test)\n",
    "        accuracies[fold_num, j_count] = np.mean(predictions == y_test)\n",
    "        \n",
    "        j_count += 1\n",
    "    fold_num += 1\n",
    "\n",
    "print(accuracies)"
   ]
  },
  {
   "cell_type": "code",
   "execution_count": 21,
   "id": "patient-beaver",
   "metadata": {},
   "outputs": [
    {
     "data": {
      "image/png": "[encoded data removed]",
      "text/plain": [
       "<Figure size 432x288 with 1 Axes>"
      ]
     },
     "metadata": {
      "needs_background": "light"
     },
     "output_type": "display_data"
    }
   ],
   "source": [
    "for i in range(len(accuracies)):\n",
    "    plt.plot(list(range(1, 16)), accuracies[i, :])"
   ]
  },
  {
   "cell_type": "markdown",
   "id": "focused-johns",
   "metadata": {},
   "source": [
    "Определим наилучшее кол-во соседей"
   ]
  },
  {
   "cell_type": "code",
   "execution_count": 22,
   "id": "vanilla-tract",
   "metadata": {},
   "outputs": [
    {
     "name": "stdout",
     "output_type": "stream",
     "text": [
      "Максимальное значение усредненной по всем folds точности 0.9722222222222221 достигнуто при кол-ве соседей kNN_best = 9.\n"
     ]
    }
   ],
   "source": [
    "avr_acc = np.average(accuracies, axis=0)\n",
    "max_avr_acc = max(avr_acc)\n",
    "kNN_best = np.argmax(avr_acc)+1\n",
    "print('Максимальное значение усредненной по всем folds точности {0} достигнуто при кол-ве соседей kNN_best = {1}.'.format(max_avr_acc, kNN_best))"
   ]
  },
  {
   "cell_type": "markdown",
   "id": "residential-omega",
   "metadata": {},
   "source": [
    "### Пример №2."
   ]
  },
  {
   "cell_type": "markdown",
   "id": "lonely-donor",
   "metadata": {},
   "source": [
    "Используем стандартную библиотеку для применения кросс-валидации"
   ]
  },
  {
   "cell_type": "code",
   "execution_count": 10,
   "id": "assumed-ozone",
   "metadata": {},
   "outputs": [],
   "source": [
    "import pandas as pd\n",
    "import numpy as np\n",
    "import matplotlib\n",
    "import matplotlib.pyplot as plt\n",
    "matplotlib.style.use('ggplot')\n",
    "%matplotlib inline"
   ]
  },
  {
   "cell_type": "code",
   "execution_count": 11,
   "id": "micro-island",
   "metadata": {},
   "outputs": [],
   "source": [
    "from sklearn.neighbors import KNeighborsClassifier\n",
    "from sklearn import metrics\n",
    "from sklearn.preprocessing import StandardScaler\n",
    "from sklearn.model_selection import cross_val_score"
   ]
  },
  {
   "cell_type": "code",
   "execution_count": 12,
   "id": "convertible-testament",
   "metadata": {},
   "outputs": [
    {
     "data": {
      "text/html": [
       "<div>\n",
       "<style scoped>\n",
       "    .dataframe tbody tr th:only-of-type {\n",
       "        vertical-align: middle;\n",
       "    }\n",
       "\n",
       "    .dataframe tbody tr th {\n",
       "        vertical-align: top;\n",
       "    }\n",
       "\n",
       "    .dataframe thead th {\n",
       "        text-align: right;\n",
       "    }\n",
       "</style>\n",
       "<table border=\"1\" class=\"dataframe\">\n",
       "  <thead>\n",
       "    <tr style=\"text-align: right;\">\n",
       "      <th></th>\n",
       "      <th>Input1</th>\n",
       "      <th>Input2</th>\n",
       "      <th>Input3</th>\n",
       "      <th>Input4</th>\n",
       "      <th>Input5</th>\n",
       "      <th>Input6</th>\n",
       "      <th>Input7</th>\n",
       "      <th>Input8</th>\n",
       "      <th>Input9</th>\n",
       "      <th>Input10</th>\n",
       "      <th>Input11</th>\n",
       "      <th>Input12</th>\n",
       "      <th>Input13</th>\n",
       "      <th>Desired1(3)</th>\n",
       "    </tr>\n",
       "  </thead>\n",
       "  <tbody>\n",
       "    <tr>\n",
       "      <th>0</th>\n",
       "      <td>14.23</td>\n",
       "      <td>1.71</td>\n",
       "      <td>2.43</td>\n",
       "      <td>15.6</td>\n",
       "      <td>127</td>\n",
       "      <td>2.80</td>\n",
       "      <td>3.06</td>\n",
       "      <td>0.28</td>\n",
       "      <td>2.29</td>\n",
       "      <td>5.64</td>\n",
       "      <td>1.04</td>\n",
       "      <td>3.92</td>\n",
       "      <td>1065</td>\n",
       "      <td>0</td>\n",
       "    </tr>\n",
       "    <tr>\n",
       "      <th>1</th>\n",
       "      <td>13.20</td>\n",
       "      <td>1.78</td>\n",
       "      <td>2.14</td>\n",
       "      <td>11.2</td>\n",
       "      <td>100</td>\n",
       "      <td>2.65</td>\n",
       "      <td>2.76</td>\n",
       "      <td>0.26</td>\n",
       "      <td>1.28</td>\n",
       "      <td>4.38</td>\n",
       "      <td>1.05</td>\n",
       "      <td>3.40</td>\n",
       "      <td>1050</td>\n",
       "      <td>0</td>\n",
       "    </tr>\n",
       "    <tr>\n",
       "      <th>2</th>\n",
       "      <td>13.16</td>\n",
       "      <td>2.36</td>\n",
       "      <td>2.67</td>\n",
       "      <td>18.6</td>\n",
       "      <td>101</td>\n",
       "      <td>2.80</td>\n",
       "      <td>3.24</td>\n",
       "      <td>0.30</td>\n",
       "      <td>2.81</td>\n",
       "      <td>5.68</td>\n",
       "      <td>1.03</td>\n",
       "      <td>3.17</td>\n",
       "      <td>1185</td>\n",
       "      <td>0</td>\n",
       "    </tr>\n",
       "    <tr>\n",
       "      <th>3</th>\n",
       "      <td>14.37</td>\n",
       "      <td>1.95</td>\n",
       "      <td>2.50</td>\n",
       "      <td>16.8</td>\n",
       "      <td>113</td>\n",
       "      <td>3.85</td>\n",
       "      <td>3.49</td>\n",
       "      <td>0.24</td>\n",
       "      <td>2.18</td>\n",
       "      <td>7.80</td>\n",
       "      <td>0.86</td>\n",
       "      <td>3.45</td>\n",
       "      <td>1480</td>\n",
       "      <td>0</td>\n",
       "    </tr>\n",
       "    <tr>\n",
       "      <th>4</th>\n",
       "      <td>13.24</td>\n",
       "      <td>2.59</td>\n",
       "      <td>2.87</td>\n",
       "      <td>21.0</td>\n",
       "      <td>118</td>\n",
       "      <td>2.80</td>\n",
       "      <td>2.69</td>\n",
       "      <td>0.39</td>\n",
       "      <td>1.82</td>\n",
       "      <td>4.32</td>\n",
       "      <td>1.04</td>\n",
       "      <td>2.93</td>\n",
       "      <td>735</td>\n",
       "      <td>0</td>\n",
       "    </tr>\n",
       "  </tbody>\n",
       "</table>\n",
       "</div>"
      ],
      "text/plain": [
       "   Input1  Input2  Input3  Input4  Input5  Input6  Input7  Input8  Input9  \\\n",
       "0   14.23    1.71    2.43    15.6     127    2.80    3.06    0.28    2.29   \n",
       "1   13.20    1.78    2.14    11.2     100    2.65    2.76    0.26    1.28   \n",
       "2   13.16    2.36    2.67    18.6     101    2.80    3.24    0.30    2.81   \n",
       "3   14.37    1.95    2.50    16.8     113    3.85    3.49    0.24    2.18   \n",
       "4   13.24    2.59    2.87    21.0     118    2.80    2.69    0.39    1.82   \n",
       "\n",
       "   Input10  Input11  Input12  Input13  Desired1(3)  \n",
       "0     5.64     1.04     3.92     1065            0  \n",
       "1     4.38     1.05     3.40     1050            0  \n",
       "2     5.68     1.03     3.17     1185            0  \n",
       "3     7.80     0.86     3.45     1480            0  \n",
       "4     4.32     1.04     2.93      735            0  "
      ]
     },
     "execution_count": 12,
     "metadata": {},
     "output_type": "execute_result"
    }
   ],
   "source": [
    "df = pd.read_csv('Wine.txt', sep='\\t')\n",
    "df.head()"
   ]
  },
  {
   "cell_type": "code",
   "execution_count": 13,
   "id": "exempt-australia",
   "metadata": {},
   "outputs": [],
   "source": [
    "X = df.iloc[:,:-1].values\n",
    "y = df.iloc[:,13].values"
   ]
  },
  {
   "cell_type": "code",
   "execution_count": 14,
   "id": "actual-space",
   "metadata": {},
   "outputs": [],
   "source": [
    "scaler = StandardScaler()\n",
    "scaler.fit(X)\n",
    "X = scaler.transform(X)"
   ]
  },
  {
   "cell_type": "code",
   "execution_count": 15,
   "id": "acceptable-pottery",
   "metadata": {},
   "outputs": [],
   "source": [
    "n_folds = 5\n",
    "k_max = 15\n",
    "k_scores = []\n",
    "\n",
    "for k in range(1, k_max+1):\n",
    "    knn = KNeighborsClassifier(n_neighbors=k)\n",
    "    scores = cross_val_score(knn, X, y, cv=n_folds, scoring='accuracy')\n",
    "    k_scores.append(scores.mean())"
   ]
  },
  {
   "cell_type": "code",
   "execution_count": 16,
   "id": "desperate-cornell",
   "metadata": {},
   "outputs": [
    {
     "data": {
      "text/plain": [
       "[0.9495238095238095,\n",
       " 0.9328571428571429,\n",
       " 0.943968253968254,\n",
       " 0.9384126984126985,\n",
       " 0.9550793650793651,\n",
       " 0.943968253968254,\n",
       " 0.9665079365079364,\n",
       " 0.9609523809523809,\n",
       " 0.9496825396825397,\n",
       " 0.9552380952380952,\n",
       " 0.9496825396825397,\n",
       " 0.9496825396825397,\n",
       " 0.9496825396825397,\n",
       " 0.9552380952380952,\n",
       " 0.9607936507936508]"
      ]
     },
     "execution_count": 16,
     "metadata": {},
     "output_type": "execute_result"
    }
   ],
   "source": [
    "k_scores"
   ]
  },
  {
   "cell_type": "code",
   "execution_count": 18,
   "id": "basic-chair",
   "metadata": {},
   "outputs": [
    {
     "name": "stdout",
     "output_type": "stream",
     "text": [
      "Максимальное значение усредненной по всем folds точности 0.9665079365079364 достигнуто при кол-ве соседей kNN_best = 7.\n"
     ]
    }
   ],
   "source": [
    "max_avr_acc = max(k_scores)\n",
    "kNN_best = np.argmax(k_scores)+1\n",
    "print('Максимальное значение усредненной по всем folds точности {0} достигнуто при кол-ве соседей kNN_best = {1}.'.format(max_avr_acc, kNN_best))"
   ]
  }
 ],
 "metadata": {
  "kernelspec": {
   "display_name": "Python 3",
   "language": "python",
   "name": "python3"
  },
  "language_info": {
   "codemirror_mode": {
    "name": "ipython",
    "version": 3
   },
   "file_extension": ".py",
   "mimetype": "text/x-python",
   "name": "python",
   "nbconvert_exporter": "python",
   "pygments_lexer": "ipython3",
   "version": "3.9.2"
  }
 },
 "nbformat": 4,
 "nbformat_minor": 5
}
