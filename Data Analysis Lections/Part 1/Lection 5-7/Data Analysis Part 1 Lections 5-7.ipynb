{
 "cells": [
  {
   "cell_type": "markdown",
   "id": "broke-scene",
   "metadata": {},
   "source": [
    "# Лекции №5-7. Проверка статистических гипотез. A/B-тесты. Тест для пропорций."
   ]
  },
  {
   "cell_type": "markdown",
   "id": "optimum-richmond",
   "metadata": {},
   "source": [
    "**Статистическая гипотеза** – утверждение о свойствах распределения вероятностей случайной величины (или случайного вектора)."
   ]
  },
  {
   "cell_type": "markdown",
   "id": "correct-tuesday",
   "metadata": {},
   "source": [
    "### 1. Гипотеза согласия.\n",
    "$F_X(t)$ - функция распределения случайной величины X;  \n",
    "$F_0(t)$ - некоторая заданная функция распределения;  \n",
    "**Гипотеза**: $F_X(t)$ = $F_0(t)$"
   ]
  },
  {
   "attachments": {
    "16.gif": {
     "image/gif": "[encoded data removed]"
    }
   },
   "cell_type": "markdown",
   "id": "polar-bundle",
   "metadata": {},
   "source": [
    "*Пример 1* : проверка распределения на нормальность.\n",
    "![16.gif](attachment:16.gif)\n",
    "Если получаем возможности пользоваться нормальным распределением, то нам необходимо меньше данных."
   ]
  },
  {
   "attachments": {
    "17.gif": {
     "image/gif": "[encoded data removed]"
    }
   },
   "cell_type": "markdown",
   "id": "dirty-slovenia",
   "metadata": {},
   "source": [
    "*Пример 2*: гипотеза об экспоненциальности распределения.\n",
    "![17.gif](attachment:17.gif)\n",
    "Экспоненциальное распределение часто встречается, когда изучается «время ожидания»."
   ]
  },
  {
   "cell_type": "markdown",
   "id": "color-kuwait",
   "metadata": {},
   "source": [
    "### 2. Гипотеза однородности.\n",
    "$F_X(t)$ - функция распределения случайной величины X;  \n",
    "$F_Y(t)$ - функция распределения случайной величины Y;  \n",
    "**Гипотеза**: $F_X(t)$ = $F_Y(t)$  \n",
    "*Пример*: Распределение продаж до рекламной акции и после нее."
   ]
  },
  {
   "cell_type": "markdown",
   "id": "entire-breakfast",
   "metadata": {},
   "source": [
    "### 3. Гипотеза независимости.\n",
    "**Гипотеза**: случайные величины X и Y независимы.  \n",
    "*Пример*: Если возраст покупателей и объем покупки зависимы, то возраст надо учитывать при сегментации покупателей."
   ]
  },
  {
   "cell_type": "markdown",
   "id": "consolidated-classification",
   "metadata": {},
   "source": [
    "### 4. Гипотезы о параметре распределения.\n",
    "**Гипотеза**: Очень часто не так интересно распределение случайной величины. Важна лишь одна характеристика распределения.  \n",
    "*Пример*: Гипотеза о равенстве математических ожиданий двух случайных величин: EX = EY."
   ]
  },
  {
   "cell_type": "markdown",
   "id": "charming-earth",
   "metadata": {},
   "source": [
    "### Основные понятия:\n",
    "\n",
    "~~Гипотеза принимается или отвергается.~~  \n",
    "Выбираем между двумя статистическими гипотезами.\n",
    "\n",
    "~~Выбрана основная гипотеза~~  \n",
    "~~Выбрана альтернативная гипотеза~~  \n",
    "~~Основная гипотеза принята~~  \n",
    "Основная гипотеза отвергнута/ Основная гипотеза не отвергнута/ Нет основания отвергнуть основную гипотезу."
   ]
  },
  {
   "cell_type": "markdown",
   "id": "arbitrary-magazine",
   "metadata": {},
   "source": [
    "**Ошибка первого рода**: отвергается основная гипотеза, когда на самом деле она верна.  \n",
    "**Ошибка второго рода**: основная гипотеза не отвергается, хотя она не верна.  \n",
    "\n",
    "Долю *ошибок первого рода* ограничивают сверху числом, называемым **уровень значимости**.\n",
    "Исторически сложилось так, что в качестве уровня значимости чаще всего выбирают одно из чисел 0.005, 0.01, 0.05.\n",
    "То есть аналитик допускает, что (в среднем) одна проверка из 200, 100, 20 будет давать неверный результат.  \n",
    "\n",
    "С уменьшением ошибки первого рода (ужесточением критериев) при той же выборке увеличивается *ошибка второго рода*. Выход: увеличивать число наблюдений в выборке. Это уменьшает ошибку второго рода."
   ]
  },
  {
   "cell_type": "markdown",
   "id": "combined-firewall",
   "metadata": {},
   "source": [
    "* Проверка гипотезы о нормальности распределения.<br>\n",
    "H0: $X \\sim N(\\cdot, \\cdot)$<br>\n",
    "H1: $X \\nsim N(\\cdot, \\cdot)$<br>\n",
    "Критерий Шапиро-Уилка [scipy.stats.shapiro](https://docs.scipy.org/doc/scipy-0.14.0/reference/generated/scipy.stats.shapiro.html).<br>\n",
    "\n",
    "\n",
    "* Критерий согласия Стьюдента.<br>\n",
    "H0: $\\mu = M$<br>\n",
    "H1: $\\mu \\ne M$<br>\n",
    "[scipy.stats.ttest_1samp](https://docs.scipy.org/doc/scipy-0.14.0/reference/generated/scipy.stats.ttest_1samp.html).<br>\n",
    "\n",
    "\n",
    "* Проверка гипотезы о равенстве средних значений.<br>\n",
    "H0: $\\mu_1 = \\mu_2$<br>\n",
    "H1: $\\mu_1 \\ne \\mu_2$<br>\n",
    "Распределение выборок должно быть близко к нормальному.<br>\n",
    "  * Для несвязных выборок: [scipy.stats.ttest_ind](https://docs.scipy.org/doc/scipy-0.14.0/reference/generated/scipy.stats.ttest_ind.html).<br>\n",
    "  * Для связных выборок: [scipy.stats.ttest_rel](https://docs.scipy.org/doc/scipy-0.14.0/reference/generated/scipy.stats.ttest_rel.html).<br>\n",
    "  \n",
    "\n",
    "* Проверка гипотезы о равенстве медиан.<br>\n",
    "  * Для несвязных выборок: критерий Манна-Уитни [scipy.stats.mannwhitneyu](https://docs.scipy.org/doc/scipy/reference/generated/scipy.stats.mannwhitneyu.html).<br>\n",
    "  * Для связных выборок: критерий Уилкоксона [scipy.stats.wilcoxon](https://docs.scipy.org/doc/scipy/reference/generated/scipy.stats.wilcoxon.html).<br>\n",
    "  * Критерий Муда [scipy.stats.median_test](https://docs.scipy.org/doc/scipy/reference/generated/scipy.stats.median_test.html).<br>\n",
    "\n",
    "\n",
    "* Проверка гипотезы о равенстве дисперсий.<br>\n",
    "H0: $\\sigma_1 = \\sigma_2$<br>\n",
    "H1: $\\sigma_1 \\neq \\sigma_2$<br>\n",
    "Критерий Флингера-Килина [scipy.stats.fligner](https://docs.scipy.org/doc/scipy-0.17.0/reference/generated/scipy.stats.fligner.html).<br>\n",
    "\n",
    "\n",
    "* Проверка гипотезы о равенстве долей категориального признака.<br>\n",
    "H0: $p_1 = p_2$<br>\n",
    "H1: $p_1 \\ne p_2$<br>\n",
    "Критерий хи-квадрат [scipy.stats.chi2_contingency](https://docs.scipy.org/doc/scipy-0.17.0/reference/generated/scipy.stats.chi2_contingency.html).<br>\n",
    "\n",
    "\n",
    "* Проверка гипотезы о независимости (корреляция).<br>\n",
    "H0: X и Y независимы<br>\n",
    "H1: X и Y зависимы<br>\n",
    "  * Для непрерыных величин: корреляция Пирсона [scipy.stats.pearsonr](https://docs.scipy.org/doc/scipy-0.14.0/reference/generated/scipy.stats.pearsonr.html),<br>\n",
    "  * Для дискретных величин: корреляция Спирмэна [scipy.stats.kendalltau](https://docs.scipy.org/doc/scipy-0.14.0/reference/generated/scipy.stats.kendalltau.html).<br>\n"
   ]
  },
  {
   "cell_type": "markdown",
   "id": "welcome-research",
   "metadata": {},
   "source": [
    "Большинство из этих функций возвращает два значения (бывает и больше). Но всегда первое из них -- значение статистики критерия, **второе -- p-value**. Нам будет интересно именно p-value.\n",
    "\n",
    "*Замечание*. В реализациях критериев Стьюдента и Манна-Уитни-Уилкоксона нет возможности задать одностороннюю альтернативную гипотезу. В этих случаях нулевую гипотезу нужно отвергать, если $\\frac{\\text{p-value}}{2} < \\alpha$."
   ]
  },
  {
   "cell_type": "markdown",
   "id": "visible-excellence",
   "metadata": {},
   "source": [
    "## Примеры использования критериев в Python."
   ]
  },
  {
   "cell_type": "markdown",
   "id": "developing-clinton",
   "metadata": {},
   "source": [
    "### Импорт библиотек"
   ]
  },
  {
   "cell_type": "code",
   "execution_count": 1,
   "id": "thorough-conviction",
   "metadata": {},
   "outputs": [],
   "source": [
    "import pandas as pd\n",
    "import numpy as np\n",
    "import matplotlib\n",
    "import matplotlib.pyplot as plt\n",
    "from scipy import stats\n",
    "import statsmodels.api as sm\n",
    "matplotlib.style.use('ggplot')\n",
    "%matplotlib inline"
   ]
  },
  {
   "cell_type": "markdown",
   "id": "educational-tattoo",
   "metadata": {},
   "source": [
    "### Функция построения двух диаграмм"
   ]
  },
  {
   "cell_type": "code",
   "execution_count": 2,
   "id": "heavy-retailer",
   "metadata": {},
   "outputs": [],
   "source": [
    "# Функции определяются так.\n",
    "def two_histograms(x, y):\n",
    "# После определения функции полезно бывает добавить её описание в таком стиле.\n",
    "# Тройные кавычки -- для обрамления многострочных строковых литералов.\n",
    "    \"\"\"\n",
    "    Функция, которая построит две гистограммы на одной картинке.\n",
    "    Дополнительно пунктирными линиями указываются средние значения выборок.\n",
    "    x: вектор pd.Series,\n",
    "    y: вектор pd.Series\n",
    "    \"\"\"\n",
    "    x.hist(alpha=0.5, weights=[1./len(x)]*len(x))\n",
    "    y.hist(alpha=0.5, weights=[1./len(y)]*len(y))\n",
    "    plt.axvline(x.mean(), color='red', alpha=0.8, linestyle='dashed')\n",
    "    plt.axvline(y.mean(), color='blue', alpha=0.8, linestyle='dashed')\n",
    "    plt.legend([x.name, y.name])"
   ]
  },
  {
   "cell_type": "markdown",
   "id": "compliant-calibration",
   "metadata": {},
   "source": [
    "### Критерий Шапиро-Уилка (проверка распределений на нормальность)"
   ]
  },
  {
   "cell_type": "code",
   "execution_count": 3,
   "id": "distinguished-daisy",
   "metadata": {},
   "outputs": [
    {
     "data": {
      "image/png": "[encoded data removed]",
      "text/plain": [
       "<Figure size 432x288 with 1 Axes>"
      ]
     },
     "metadata": {
      "needs_background": "light"
     },
     "output_type": "display_data"
    }
   ],
   "source": [
    "df = pd.read_csv('town_1959_2.csv', encoding='cp1251')\n",
    "df = df.set_index(u'номер')\n",
    "plt.hist(np.log10(df[u'население']), bins=50);"
   ]
  },
  {
   "cell_type": "code",
   "execution_count": 4,
   "id": "falling-presentation",
   "metadata": {},
   "outputs": [
    {
     "name": "stdout",
     "output_type": "stream",
     "text": [
      "p-value:  3.1486824866172602e-12\n"
     ]
    }
   ],
   "source": [
    "res = stats.shapiro(np.log10(df[u'население']))\n",
    "print('p-value: ', res[1])"
   ]
  },
  {
   "cell_type": "markdown",
   "id": "curious-irrigation",
   "metadata": {},
   "source": [
    "### Критерий Манна-Уитни"
   ]
  },
  {
   "cell_type": "code",
   "execution_count": 5,
   "id": "racial-logistics",
   "metadata": {},
   "outputs": [
    {
     "data": {
      "text/html": [
       "<div>\n",
       "<style scoped>\n",
       "    .dataframe tbody tr th:only-of-type {\n",
       "        vertical-align: middle;\n",
       "    }\n",
       "\n",
       "    .dataframe tbody tr th {\n",
       "        vertical-align: top;\n",
       "    }\n",
       "\n",
       "    .dataframe thead th {\n",
       "        text-align: right;\n",
       "    }\n",
       "</style>\n",
       "<table border=\"1\" class=\"dataframe\">\n",
       "  <thead>\n",
       "    <tr style=\"text-align: right;\">\n",
       "      <th></th>\n",
       "      <th>PRICE</th>\n",
       "      <th>SQFT</th>\n",
       "      <th>AGE</th>\n",
       "      <th>FEATS</th>\n",
       "      <th>NE</th>\n",
       "      <th>CUST</th>\n",
       "      <th>COR</th>\n",
       "      <th>TAX</th>\n",
       "    </tr>\n",
       "  </thead>\n",
       "  <tbody>\n",
       "    <tr>\n",
       "      <th>0</th>\n",
       "      <td>2050</td>\n",
       "      <td>2650</td>\n",
       "      <td>13</td>\n",
       "      <td>7</td>\n",
       "      <td>1</td>\n",
       "      <td>1</td>\n",
       "      <td>0</td>\n",
       "      <td>1639</td>\n",
       "    </tr>\n",
       "    <tr>\n",
       "      <th>1</th>\n",
       "      <td>2080</td>\n",
       "      <td>2600</td>\n",
       "      <td>-9999</td>\n",
       "      <td>4</td>\n",
       "      <td>1</td>\n",
       "      <td>1</td>\n",
       "      <td>0</td>\n",
       "      <td>1088</td>\n",
       "    </tr>\n",
       "    <tr>\n",
       "      <th>2</th>\n",
       "      <td>2150</td>\n",
       "      <td>2664</td>\n",
       "      <td>6</td>\n",
       "      <td>5</td>\n",
       "      <td>1</td>\n",
       "      <td>1</td>\n",
       "      <td>0</td>\n",
       "      <td>1193</td>\n",
       "    </tr>\n",
       "    <tr>\n",
       "      <th>3</th>\n",
       "      <td>2150</td>\n",
       "      <td>2921</td>\n",
       "      <td>3</td>\n",
       "      <td>6</td>\n",
       "      <td>1</td>\n",
       "      <td>1</td>\n",
       "      <td>0</td>\n",
       "      <td>1635</td>\n",
       "    </tr>\n",
       "    <tr>\n",
       "      <th>4</th>\n",
       "      <td>1999</td>\n",
       "      <td>2580</td>\n",
       "      <td>4</td>\n",
       "      <td>4</td>\n",
       "      <td>1</td>\n",
       "      <td>1</td>\n",
       "      <td>0</td>\n",
       "      <td>1732</td>\n",
       "    </tr>\n",
       "  </tbody>\n",
       "</table>\n",
       "</div>"
      ],
      "text/plain": [
       "   PRICE  SQFT   AGE  FEATS  NE  CUST  COR   TAX\n",
       "0   2050  2650    13      7   1     1    0  1639\n",
       "1   2080  2600 -9999      4   1     1    0  1088\n",
       "2   2150  2664     6      5   1     1    0  1193\n",
       "3   2150  2921     3      6   1     1    0  1635\n",
       "4   1999  2580     4      4   1     1    0  1732"
      ]
     },
     "execution_count": 5,
     "metadata": {},
     "output_type": "execute_result"
    }
   ],
   "source": [
    "df = pd.read_csv('Albuquerque Home Prices_data.txt', sep='\\t')\n",
    "df.head()"
   ]
  },
  {
   "cell_type": "markdown",
   "id": "touched-object",
   "metadata": {},
   "source": [
    "Очевидно, что значение -9999 здесь употребляется в качестве пустого значения. Нужно заменить его на корректное пустое значение."
   ]
  },
  {
   "cell_type": "code",
   "execution_count": 6,
   "id": "weighted-malaysia",
   "metadata": {},
   "outputs": [],
   "source": [
    "df = df.replace(-9999, np.nan)"
   ]
  },
  {
   "cell_type": "code",
   "execution_count": 7,
   "id": "interim-diana",
   "metadata": {},
   "outputs": [],
   "source": [
    "x = df[df['COR'] == 1]['PRICE']\n",
    "y = df[df['COR'] == 0]['PRICE']\n",
    "x.name, y.name = 'corner', 'not corner'"
   ]
  },
  {
   "cell_type": "code",
   "execution_count": 8,
   "id": "rational-gravity",
   "metadata": {},
   "outputs": [
    {
     "data": {
      "image/png": "[encoded data removed]",
      "text/plain": [
       "<Figure size 432x288 with 1 Axes>"
      ]
     },
     "metadata": {
      "needs_background": "light"
     },
     "output_type": "display_data"
    }
   ],
   "source": [
    "# вызываем функцию для определённых выше векторов x, y.\n",
    "two_histograms(x, y)"
   ]
  },
  {
   "cell_type": "markdown",
   "id": "marine-majority",
   "metadata": {},
   "source": [
    "Распределения значительно отличаются от нормального (например, присутствуют выбросы, также наблюдается ассиметрия, хоть и незначительная). Поэтому применяем не критерий Стьюдента, а критерий Манна-Уитни."
   ]
  },
  {
   "cell_type": "code",
   "execution_count": 9,
   "id": "signal-liability",
   "metadata": {},
   "outputs": [
    {
     "name": "stdout",
     "output_type": "stream",
     "text": [
      "p-value: 0.8044081572425339\n"
     ]
    }
   ],
   "source": [
    "res = stats.mannwhitneyu(x, y)\n",
    "print('p-value:', res[1])"
   ]
  },
  {
   "cell_type": "markdown",
   "id": "distinct-illustration",
   "metadata": {},
   "source": [
    "### Критерий Муда"
   ]
  },
  {
   "cell_type": "code",
   "execution_count": 11,
   "id": "improving-chester",
   "metadata": {},
   "outputs": [
    {
     "data": {
      "text/html": [
       "<div>\n",
       "<style scoped>\n",
       "    .dataframe tbody tr th:only-of-type {\n",
       "        vertical-align: middle;\n",
       "    }\n",
       "\n",
       "    .dataframe tbody tr th {\n",
       "        vertical-align: top;\n",
       "    }\n",
       "\n",
       "    .dataframe thead th {\n",
       "        text-align: right;\n",
       "    }\n",
       "</style>\n",
       "<table border=\"1\" class=\"dataframe\">\n",
       "  <thead>\n",
       "    <tr style=\"text-align: right;\">\n",
       "      <th></th>\n",
       "      <th>PRICE</th>\n",
       "      <th>SQFT</th>\n",
       "      <th>AGE</th>\n",
       "      <th>FEATS</th>\n",
       "      <th>NE</th>\n",
       "      <th>CUST</th>\n",
       "      <th>COR</th>\n",
       "      <th>TAX</th>\n",
       "    </tr>\n",
       "  </thead>\n",
       "  <tbody>\n",
       "    <tr>\n",
       "      <th>0</th>\n",
       "      <td>2050</td>\n",
       "      <td>2650</td>\n",
       "      <td>13.0</td>\n",
       "      <td>7</td>\n",
       "      <td>1</td>\n",
       "      <td>1</td>\n",
       "      <td>0</td>\n",
       "      <td>1639.0</td>\n",
       "    </tr>\n",
       "    <tr>\n",
       "      <th>1</th>\n",
       "      <td>2080</td>\n",
       "      <td>2600</td>\n",
       "      <td>NaN</td>\n",
       "      <td>4</td>\n",
       "      <td>1</td>\n",
       "      <td>1</td>\n",
       "      <td>0</td>\n",
       "      <td>1088.0</td>\n",
       "    </tr>\n",
       "    <tr>\n",
       "      <th>2</th>\n",
       "      <td>2150</td>\n",
       "      <td>2664</td>\n",
       "      <td>6.0</td>\n",
       "      <td>5</td>\n",
       "      <td>1</td>\n",
       "      <td>1</td>\n",
       "      <td>0</td>\n",
       "      <td>1193.0</td>\n",
       "    </tr>\n",
       "    <tr>\n",
       "      <th>3</th>\n",
       "      <td>2150</td>\n",
       "      <td>2921</td>\n",
       "      <td>3.0</td>\n",
       "      <td>6</td>\n",
       "      <td>1</td>\n",
       "      <td>1</td>\n",
       "      <td>0</td>\n",
       "      <td>1635.0</td>\n",
       "    </tr>\n",
       "    <tr>\n",
       "      <th>4</th>\n",
       "      <td>1999</td>\n",
       "      <td>2580</td>\n",
       "      <td>4.0</td>\n",
       "      <td>4</td>\n",
       "      <td>1</td>\n",
       "      <td>1</td>\n",
       "      <td>0</td>\n",
       "      <td>1732.0</td>\n",
       "    </tr>\n",
       "  </tbody>\n",
       "</table>\n",
       "</div>"
      ],
      "text/plain": [
       "   PRICE  SQFT   AGE  FEATS  NE  CUST  COR     TAX\n",
       "0   2050  2650  13.0      7   1     1    0  1639.0\n",
       "1   2080  2600   NaN      4   1     1    0  1088.0\n",
       "2   2150  2664   6.0      5   1     1    0  1193.0\n",
       "3   2150  2921   3.0      6   1     1    0  1635.0\n",
       "4   1999  2580   4.0      4   1     1    0  1732.0"
      ]
     },
     "execution_count": 11,
     "metadata": {},
     "output_type": "execute_result"
    }
   ],
   "source": [
    "df = pd.read_csv('Albuquerque Home Prices_data.txt', sep='\\t')\n",
    "df = df.replace(-9999, np.nan)\n",
    "df.head()"
   ]
  },
  {
   "cell_type": "code",
   "execution_count": 12,
   "id": "important-surgeon",
   "metadata": {},
   "outputs": [
    {
     "data": {
      "image/png": "[encoded data removed]",
      "text/plain": [
       "<Figure size 432x288 with 1 Axes>"
      ]
     },
     "metadata": {
      "needs_background": "light"
     },
     "output_type": "display_data"
    }
   ],
   "source": [
    "x = df[df['NE'] == 1]['PRICE']\n",
    "y = df[df['NE'] == 0]['PRICE']\n",
    "x.name, y.name = 'NE', 'not NE'\n",
    "two_histograms(x, y)"
   ]
  },
  {
   "cell_type": "code",
   "execution_count": 13,
   "id": "premier-cycle",
   "metadata": {},
   "outputs": [
    {
     "name": "stdout",
     "output_type": "stream",
     "text": [
      "p-value: 0.4720677479376454\n"
     ]
    }
   ],
   "source": [
    "res = stats.median_test(x, y)\n",
    "print('p-value:', res[1])"
   ]
  },
  {
   "cell_type": "markdown",
   "id": "subsequent-milan",
   "metadata": {},
   "source": [
    "### Критерий Флигнера-Килина (Проверка равенства дисперсий)"
   ]
  },
  {
   "cell_type": "code",
   "execution_count": 14,
   "id": "romance-organizer",
   "metadata": {},
   "outputs": [
    {
     "data": {
      "text/html": [
       "<div>\n",
       "<style scoped>\n",
       "    .dataframe tbody tr th:only-of-type {\n",
       "        vertical-align: middle;\n",
       "    }\n",
       "\n",
       "    .dataframe tbody tr th {\n",
       "        vertical-align: top;\n",
       "    }\n",
       "\n",
       "    .dataframe thead th {\n",
       "        text-align: right;\n",
       "    }\n",
       "</style>\n",
       "<table border=\"1\" class=\"dataframe\">\n",
       "  <thead>\n",
       "    <tr style=\"text-align: right;\">\n",
       "      <th></th>\n",
       "      <th>group</th>\n",
       "      <th>age</th>\n",
       "      <th>index</th>\n",
       "    </tr>\n",
       "  </thead>\n",
       "  <tbody>\n",
       "    <tr>\n",
       "      <th>0</th>\n",
       "      <td>aris</td>\n",
       "      <td>21</td>\n",
       "      <td>1</td>\n",
       "    </tr>\n",
       "    <tr>\n",
       "      <th>1</th>\n",
       "      <td>aris</td>\n",
       "      <td>21</td>\n",
       "      <td>2</td>\n",
       "    </tr>\n",
       "    <tr>\n",
       "      <th>2</th>\n",
       "      <td>aris</td>\n",
       "      <td>21</td>\n",
       "      <td>3</td>\n",
       "    </tr>\n",
       "    <tr>\n",
       "      <th>3</th>\n",
       "      <td>aris</td>\n",
       "      <td>21</td>\n",
       "      <td>4</td>\n",
       "    </tr>\n",
       "    <tr>\n",
       "      <th>4</th>\n",
       "      <td>aris</td>\n",
       "      <td>21</td>\n",
       "      <td>5</td>\n",
       "    </tr>\n",
       "  </tbody>\n",
       "</table>\n",
       "</div>"
      ],
      "text/plain": [
       "  group  age  index\n",
       "0  aris   21      1\n",
       "1  aris   21      2\n",
       "2  aris   21      3\n",
       "3  aris   21      4\n",
       "4  aris   21      5"
      ]
     },
     "execution_count": 14,
     "metadata": {},
     "output_type": "execute_result"
    }
   ],
   "source": [
    "df = pd.read_csv('agedeath.dat.txt', sep='\\s+', header=None, names=['group', 'age', 'index'])\n",
    "df.head()"
   ]
  },
  {
   "cell_type": "code",
   "execution_count": 15,
   "id": "declared-institute",
   "metadata": {},
   "outputs": [
    {
     "data": {
      "image/png": "[encoded data removed]",
      "text/plain": [
       "<Figure size 432x288 with 1 Axes>"
      ]
     },
     "metadata": {
      "needs_background": "light"
     },
     "output_type": "display_data"
    }
   ],
   "source": [
    "x = df[df['group'] == 'sovr']['age']\n",
    "y = df[df['group'] == 'aris']['age']\n",
    "x.name, y.name = 'sovr', 'aris'\n",
    "two_histograms(x, y)"
   ]
  },
  {
   "cell_type": "code",
   "execution_count": 16,
   "id": "narrow-uniform",
   "metadata": {},
   "outputs": [
    {
     "name": "stdout",
     "output_type": "stream",
     "text": [
      "p-value:  0.00010116077103844913\n"
     ]
    }
   ],
   "source": [
    "res = stats.fligner(x, y)\n",
    "print('p-value: ', res[1])"
   ]
  },
  {
   "cell_type": "markdown",
   "id": "everyday-image",
   "metadata": {},
   "source": [
    "### Критерий Стьюдента для непарных выборок"
   ]
  },
  {
   "cell_type": "code",
   "execution_count": 17,
   "id": "married-palestine",
   "metadata": {},
   "outputs": [
    {
     "data": {
      "image/png": "[encoded data removed]",
      "text/plain": [
       "<Figure size 432x288 with 1 Axes>"
      ]
     },
     "metadata": {
      "needs_background": "light"
     },
     "output_type": "display_data"
    }
   ],
   "source": [
    "df = pd.read_csv('agedeath.dat.txt', sep='\\s+', header=None, names=['group', 'age', 'index'])\n",
    "df.head()\n",
    "x = df[df['group'] == 'sovr']['age']\n",
    "y = df[df['group'] == 'aris']['age']\n",
    "x.name, y.name = 'sovr', 'aris'\n",
    "two_histograms(x, y)"
   ]
  },
  {
   "cell_type": "markdown",
   "id": "floppy-short",
   "metadata": {},
   "source": [
    "Значение p-value **в тесте о проверке равенства дисперсий** низкое, поэтому гипотезу о равенстве дисперсий отвергаем. В двух выборках находятся разные наблюдаемые объекты, то есть выборки несвязные. Итого, гипотезу о равенстве средних значений будем проверять с помощью *ttest_ind* с опцией *equal_var=False*."
   ]
  },
  {
   "cell_type": "code",
   "execution_count": 18,
   "id": "meaning-ceiling",
   "metadata": {},
   "outputs": [
    {
     "name": "stdout",
     "output_type": "stream",
     "text": [
      "p-value:  1.5181184197728794e-26\n"
     ]
    }
   ],
   "source": [
    "res = stats.ttest_ind(x, y, equal_var=False)\n",
    "print('p-value: ', res[1])"
   ]
  },
  {
   "cell_type": "markdown",
   "id": "metropolitan-sheriff",
   "metadata": {},
   "source": [
    "### Критерий Стьюдента для парных выборок"
   ]
  },
  {
   "cell_type": "code",
   "execution_count": 19,
   "id": "extra-september",
   "metadata": {},
   "outputs": [
    {
     "data": {
      "text/html": [
       "<div>\n",
       "<style scoped>\n",
       "    .dataframe tbody tr th:only-of-type {\n",
       "        vertical-align: middle;\n",
       "    }\n",
       "\n",
       "    .dataframe tbody tr th {\n",
       "        vertical-align: top;\n",
       "    }\n",
       "\n",
       "    .dataframe thead th {\n",
       "        text-align: right;\n",
       "    }\n",
       "</style>\n",
       "<table border=\"1\" class=\"dataframe\">\n",
       "  <thead>\n",
       "    <tr style=\"text-align: right;\">\n",
       "      <th></th>\n",
       "      <th>Subj</th>\n",
       "      <th>DiffCol</th>\n",
       "      <th>Black</th>\n",
       "    </tr>\n",
       "  </thead>\n",
       "  <tbody>\n",
       "    <tr>\n",
       "      <th>0</th>\n",
       "      <td>1</td>\n",
       "      <td>39.64</td>\n",
       "      <td>37.53</td>\n",
       "    </tr>\n",
       "    <tr>\n",
       "      <th>1</th>\n",
       "      <td>2</td>\n",
       "      <td>44.26</td>\n",
       "      <td>42.02</td>\n",
       "    </tr>\n",
       "    <tr>\n",
       "      <th>2</th>\n",
       "      <td>3</td>\n",
       "      <td>33.84</td>\n",
       "      <td>31.99</td>\n",
       "    </tr>\n",
       "    <tr>\n",
       "      <th>3</th>\n",
       "      <td>4</td>\n",
       "      <td>53.88</td>\n",
       "      <td>39.48</td>\n",
       "    </tr>\n",
       "    <tr>\n",
       "      <th>4</th>\n",
       "      <td>5</td>\n",
       "      <td>38.94</td>\n",
       "      <td>43.09</td>\n",
       "    </tr>\n",
       "  </tbody>\n",
       "</table>\n",
       "</div>"
      ],
      "text/plain": [
       "   Subj  DiffCol  Black\n",
       "0     1    39.64  37.53\n",
       "1     2    44.26  42.02\n",
       "2     3    33.84  31.99\n",
       "3     4    53.88  39.48\n",
       "4     5    38.94  43.09"
      ]
     },
     "execution_count": 19,
     "metadata": {},
     "output_type": "execute_result"
    }
   ],
   "source": [
    "df = pd.read_csv('interference.csv')\n",
    "df.head()"
   ]
  },
  {
   "cell_type": "code",
   "execution_count": 20,
   "id": "formal-serial",
   "metadata": {},
   "outputs": [
    {
     "data": {
      "image/png": "[encoded data removed]",
      "text/plain": [
       "<Figure size 432x288 with 1 Axes>"
      ]
     },
     "metadata": {
      "needs_background": "light"
     },
     "output_type": "display_data"
    }
   ],
   "source": [
    "x = df['DiffCol']\n",
    "y = df['Black']\n",
    "x.name, y.name = 'DiffCol', 'Black'\n",
    "two_histograms(x, y)"
   ]
  },
  {
   "cell_type": "code",
   "execution_count": 21,
   "id": "dedicated-restaurant",
   "metadata": {},
   "outputs": [
    {
     "name": "stdout",
     "output_type": "stream",
     "text": [
      "p-value:  0.0162416779538072\n"
     ]
    }
   ],
   "source": [
    "res = stats.ttest_rel(x, y)\n",
    "print('p-value: ', res[1])"
   ]
  },
  {
   "cell_type": "markdown",
   "id": "outdoor-nutrition",
   "metadata": {},
   "source": [
    "### A/B-тесты"
   ]
  },
  {
   "cell_type": "markdown",
   "id": "mediterranean-sweet",
   "metadata": {},
   "source": [
    "Данные о смертности после аварии для пристегнутых и непристегнутых пассажиров и водителей. Нулевая гипотеза: то, пристегнут или нет ремень, не влияет на смертность."
   ]
  },
  {
   "cell_type": "code",
   "execution_count": 22,
   "id": "sacred-hazard",
   "metadata": {},
   "outputs": [],
   "source": [
    "s1 = 135       #  число успехов     выборка А\n",
    "n1 = 1781      #  число испытаний   выборка А\n",
    "s2 = 47        #  число успехов     выборка Б\n",
    "n2 = 1443      #  число испытаний   выборка Б"
   ]
  },
  {
   "cell_type": "code",
   "execution_count": 23,
   "id": "loved-peninsula",
   "metadata": {},
   "outputs": [
    {
     "name": "stdout",
     "output_type": "stream",
     "text": [
      "              died  survived\n",
      "no seat belt   135      1646\n",
      "seat belt       47      1396\n"
     ]
    }
   ],
   "source": [
    "contingency_table = pd.DataFrame([[s1, n1-s1], [s2, n2-s2]],\n",
    "                                 index=['no seat belt', 'seat belt'],\n",
    "                                 columns=['died', 'survived'])\n",
    "print(contingency_table)"
   ]
  },
  {
   "cell_type": "markdown",
   "id": "hidden-elevation",
   "metadata": {},
   "source": [
    "#### Первый вариант"
   ]
  },
  {
   "cell_type": "code",
   "execution_count": 24,
   "id": "incorporated-attribute",
   "metadata": {},
   "outputs": [
    {
     "name": "stdout",
     "output_type": "stream",
     "text": [
      "['5.288388269523', '0.000000123399']\n"
     ]
    }
   ],
   "source": [
    "p1 = s1/n1               #  оценка вероятности успеха выборка А\n",
    "p2 = s2/n2               #  оценка вероятности успеха выборка Б\n",
    "p = (s1 + s2)/(n1+n2)    #  оценка вероятности успеха выборка А+Б\n",
    "z = (p2-p1)/ ((p*(1-p)*((1/n1)+(1/n2)))**0.5)  #  z-метка\n",
    "\n",
    "p_value = stats.norm.cdf(z)\n",
    "\n",
    "#  z-метка и p-значение\n",
    "print(['{:.12f}'.format(a) for a in (abs(z), p_value * 2)])"
   ]
  },
  {
   "cell_type": "markdown",
   "id": "legal-coverage",
   "metadata": {},
   "source": [
    "#### Второй вариант"
   ]
  },
  {
   "cell_type": "code",
   "execution_count": 25,
   "id": "norwegian-habitat",
   "metadata": {},
   "outputs": [
    {
     "name": "stdout",
     "output_type": "stream",
     "text": [
      "['5.288388269523', '0.000000123399']\n"
     ]
    }
   ],
   "source": [
    "z1, p_value1 = sm.stats.proportions_ztest([s1, s2], [n1, n2])\n",
    "\n",
    "#  z-метка и p-значение\n",
    "print(['{:.12f}'.format(b) for b in (z1, p_value1)])"
   ]
  },
  {
   "cell_type": "markdown",
   "id": "abandoned-wales",
   "metadata": {},
   "source": [
    "#### Третий вариант"
   ]
  },
  {
   "cell_type": "code",
   "execution_count": 26,
   "id": "fossil-conjunction",
   "metadata": {},
   "outputs": [
    {
     "name": "stdout",
     "output_type": "stream",
     "text": [
      "['5.288388269523', '0.000000123399']\n"
     ]
    }
   ],
   "source": [
    "#  Нельзя использовать, если Вы не понимаете,\n",
    "#  почему ответ такой же, как ранее!!!\n",
    "chi2, p_value3, dof, exp = stats.chi2_contingency(contingency_table, correction=False)\n",
    "\n",
    "print(['{:.12f}'.format(d) for d in (chi2**0.5, p_value3)])"
   ]
  },
  {
   "cell_type": "markdown",
   "id": "responsible-climb",
   "metadata": {},
   "source": [
    "### Коэффициент корреляции Пирсона"
   ]
  },
  {
   "cell_type": "code",
   "execution_count": 27,
   "id": "crazy-consideration",
   "metadata": {},
   "outputs": [
    {
     "data": {
      "text/html": [
       "<div>\n",
       "<style scoped>\n",
       "    .dataframe tbody tr th:only-of-type {\n",
       "        vertical-align: middle;\n",
       "    }\n",
       "\n",
       "    .dataframe tbody tr th {\n",
       "        vertical-align: top;\n",
       "    }\n",
       "\n",
       "    .dataframe thead th {\n",
       "        text-align: right;\n",
       "    }\n",
       "</style>\n",
       "<table border=\"1\" class=\"dataframe\">\n",
       "  <thead>\n",
       "    <tr style=\"text-align: right;\">\n",
       "      <th></th>\n",
       "      <th>PRICE</th>\n",
       "      <th>SQFT</th>\n",
       "      <th>AGE</th>\n",
       "      <th>FEATS</th>\n",
       "      <th>NE</th>\n",
       "      <th>CUST</th>\n",
       "      <th>COR</th>\n",
       "      <th>TAX</th>\n",
       "    </tr>\n",
       "  </thead>\n",
       "  <tbody>\n",
       "    <tr>\n",
       "      <th>0</th>\n",
       "      <td>2050</td>\n",
       "      <td>2650</td>\n",
       "      <td>13.0</td>\n",
       "      <td>7</td>\n",
       "      <td>1</td>\n",
       "      <td>1</td>\n",
       "      <td>0</td>\n",
       "      <td>1639.0</td>\n",
       "    </tr>\n",
       "    <tr>\n",
       "      <th>1</th>\n",
       "      <td>2080</td>\n",
       "      <td>2600</td>\n",
       "      <td>NaN</td>\n",
       "      <td>4</td>\n",
       "      <td>1</td>\n",
       "      <td>1</td>\n",
       "      <td>0</td>\n",
       "      <td>1088.0</td>\n",
       "    </tr>\n",
       "    <tr>\n",
       "      <th>2</th>\n",
       "      <td>2150</td>\n",
       "      <td>2664</td>\n",
       "      <td>6.0</td>\n",
       "      <td>5</td>\n",
       "      <td>1</td>\n",
       "      <td>1</td>\n",
       "      <td>0</td>\n",
       "      <td>1193.0</td>\n",
       "    </tr>\n",
       "    <tr>\n",
       "      <th>3</th>\n",
       "      <td>2150</td>\n",
       "      <td>2921</td>\n",
       "      <td>3.0</td>\n",
       "      <td>6</td>\n",
       "      <td>1</td>\n",
       "      <td>1</td>\n",
       "      <td>0</td>\n",
       "      <td>1635.0</td>\n",
       "    </tr>\n",
       "    <tr>\n",
       "      <th>4</th>\n",
       "      <td>1999</td>\n",
       "      <td>2580</td>\n",
       "      <td>4.0</td>\n",
       "      <td>4</td>\n",
       "      <td>1</td>\n",
       "      <td>1</td>\n",
       "      <td>0</td>\n",
       "      <td>1732.0</td>\n",
       "    </tr>\n",
       "  </tbody>\n",
       "</table>\n",
       "</div>"
      ],
      "text/plain": [
       "   PRICE  SQFT   AGE  FEATS  NE  CUST  COR     TAX\n",
       "0   2050  2650  13.0      7   1     1    0  1639.0\n",
       "1   2080  2600   NaN      4   1     1    0  1088.0\n",
       "2   2150  2664   6.0      5   1     1    0  1193.0\n",
       "3   2150  2921   3.0      6   1     1    0  1635.0\n",
       "4   1999  2580   4.0      4   1     1    0  1732.0"
      ]
     },
     "execution_count": 27,
     "metadata": {},
     "output_type": "execute_result"
    }
   ],
   "source": [
    "df = pd.read_csv('Albuquerque Home Prices_data.txt', sep='\\t')\n",
    "df = df.replace(-9999, np.nan)\n",
    "df.head()"
   ]
  },
  {
   "cell_type": "code",
   "execution_count": 28,
   "id": "public-helicopter",
   "metadata": {},
   "outputs": [
    {
     "data": {
      "text/plain": [
       "<matplotlib.collections.PathCollection at 0x2324ec26fd0>"
      ]
     },
     "execution_count": 28,
     "metadata": {},
     "output_type": "execute_result"
    },
    {
     "data": {
      "image/png": "[encoded data removed]",
      "text/plain": [
       "<Figure size 432x288 with 1 Axes>"
      ]
     },
     "metadata": {
      "needs_background": "light"
     },
     "output_type": "display_data"
    }
   ],
   "source": [
    "# Корреляция цены и площади\n",
    "plt.scatter(df['PRICE'], df['SQFT'])"
   ]
  },
  {
   "cell_type": "code",
   "execution_count": 29,
   "id": "distributed-interface",
   "metadata": {},
   "outputs": [
    {
     "name": "stdout",
     "output_type": "stream",
     "text": [
      "Pearson rho:  0.8447950985552123\n",
      "p-value:  5.146345707629239e-33\n"
     ]
    }
   ],
   "source": [
    "res = stats.pearsonr(df['PRICE'], df['SQFT'])\n",
    "print('Pearson rho: ', res[0])\n",
    "print('p-value: ', res[1])"
   ]
  }
 ],
 "metadata": {
  "kernelspec": {
   "display_name": "Python 3",
   "language": "python",
   "name": "python3"
  },
  "language_info": {
   "codemirror_mode": {
    "name": "ipython",
    "version": 3
   },
   "file_extension": ".py",
   "mimetype": "text/x-python",
   "name": "python",
   "nbconvert_exporter": "python",
   "pygments_lexer": "ipython3",
   "version": "3.9.2"
  }
 },
 "nbformat": 4,
 "nbformat_minor": 5
}
